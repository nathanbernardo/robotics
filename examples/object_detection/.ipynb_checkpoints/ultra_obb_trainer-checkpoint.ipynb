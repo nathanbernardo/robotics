{
 "cells": [
  {
   "cell_type": "code",
   "execution_count": 1,
   "id": "bf5b46e5-7bd7-48e7-8db0-dbeb7ca60985",
   "metadata": {},
   "outputs": [],
   "source": [
    "import cv2\n",
    "from ultralytics import YOLO"
   ]
  },
  {
   "cell_type": "code",
   "execution_count": 2,
   "id": "6bf0de9b-395d-4f39-8f3a-ea17d0517af0",
   "metadata": {},
   "outputs": [
    {
     "name": "stdout",
     "output_type": "stream",
     "text": [
      "Transferred 499/541 items from pretrained weights\n"
     ]
    }
   ],
   "source": [
    "model = YOLO(\"yolo11n-obb.yaml\").load(\"yolo11n.pt\") "
   ]
  },
  {
   "cell_type": "code",
   "execution_count": 4,
   "id": "da5824c9-dc72-4ad9-90b1-ad86b20f9650",
   "metadata": {},
   "outputs": [
    {
     "name": "stdout",
     "output_type": "stream",
     "text": [
      "New https://pypi.org/project/ultralytics/8.3.65 available 😃 Update with 'pip install -U ultralytics'\n",
      "Ultralytics 8.3.38 🚀 Python-3.12.7 torch-2.5.1+cu124 CUDA:0 (NVIDIA GeForce GTX 1080, 8099MiB)\n",
      "\u001b[34m\u001b[1mengine/trainer: \u001b[0mtask=obb, mode=train, model=yolo11n-obb.yaml, data=./test/data.yaml, epochs=100, time=None, patience=100, batch=16, imgsz=640, save=True, save_period=-1, cache=False, device=None, workers=8, project=None, name=train41, exist_ok=False, pretrained=yolo11n.pt, optimizer=auto, verbose=True, seed=0, deterministic=True, single_cls=False, rect=False, cos_lr=False, close_mosaic=10, resume=False, amp=True, fraction=1.0, profile=False, freeze=None, multi_scale=False, overlap_mask=True, mask_ratio=4, dropout=0.0, val=True, split=val, save_json=False, save_hybrid=False, conf=None, iou=0.7, max_det=300, half=False, dnn=False, plots=True, source=None, vid_stride=1, stream_buffer=False, visualize=False, augment=False, agnostic_nms=False, classes=None, retina_masks=False, embed=None, show=False, save_frames=False, save_txt=False, save_conf=False, save_crop=False, show_labels=True, show_conf=True, show_boxes=True, line_width=None, format=torchscript, keras=False, optimize=False, int8=False, dynamic=False, simplify=True, opset=None, workspace=None, nms=False, lr0=0.01, lrf=0.01, momentum=0.937, weight_decay=0.0005, warmup_epochs=3.0, warmup_momentum=0.8, warmup_bias_lr=0.1, box=7.5, cls=0.5, dfl=1.5, pose=12.0, kobj=1.0, nbs=64, hsv_h=0.015, hsv_s=0.7, hsv_v=0.4, degrees=0.0, translate=0.1, scale=0.5, shear=0.0, perspective=0.0, flipud=0.0, fliplr=0.5, bgr=0.0, mosaic=1.0, mixup=0.0, copy_paste=0.0, copy_paste_mode=flip, auto_augment=randaugment, erasing=0.4, crop_fraction=1.0, cfg=None, tracker=botsort.yaml, save_dir=/home/ncbernar/.pyenv/runs/obb/train41\n",
      "Overriding model.yaml nc=80 with nc=13\n",
      "\n",
      "                   from  n    params  module                                       arguments                     \n",
      "  0                  -1  1       464  ultralytics.nn.modules.conv.Conv             [3, 16, 3, 2]                 \n",
      "  1                  -1  1      4672  ultralytics.nn.modules.conv.Conv             [16, 32, 3, 2]                \n",
      "  2                  -1  1      6640  ultralytics.nn.modules.block.C3k2            [32, 64, 1, False, 0.25]      \n",
      "  3                  -1  1     36992  ultralytics.nn.modules.conv.Conv             [64, 64, 3, 2]                \n",
      "  4                  -1  1     26080  ultralytics.nn.modules.block.C3k2            [64, 128, 1, False, 0.25]     \n",
      "  5                  -1  1    147712  ultralytics.nn.modules.conv.Conv             [128, 128, 3, 2]              \n",
      "  6                  -1  1     87040  ultralytics.nn.modules.block.C3k2            [128, 128, 1, True]           \n",
      "  7                  -1  1    295424  ultralytics.nn.modules.conv.Conv             [128, 256, 3, 2]              \n",
      "  8                  -1  1    346112  ultralytics.nn.modules.block.C3k2            [256, 256, 1, True]           \n",
      "  9                  -1  1    164608  ultralytics.nn.modules.block.SPPF            [256, 256, 5]                 \n",
      " 10                  -1  1    249728  ultralytics.nn.modules.block.C2PSA           [256, 256, 1]                 \n",
      " 11                  -1  1         0  torch.nn.modules.upsampling.Upsample         [None, 2, 'nearest']          \n",
      " 12             [-1, 6]  1         0  ultralytics.nn.modules.conv.Concat           [1]                           \n",
      " 13                  -1  1    111296  ultralytics.nn.modules.block.C3k2            [384, 128, 1, False]          \n",
      " 14                  -1  1         0  torch.nn.modules.upsampling.Upsample         [None, 2, 'nearest']          \n",
      " 15             [-1, 4]  1         0  ultralytics.nn.modules.conv.Concat           [1]                           \n",
      " 16                  -1  1     32096  ultralytics.nn.modules.block.C3k2            [256, 64, 1, False]           \n",
      " 17                  -1  1     36992  ultralytics.nn.modules.conv.Conv             [64, 64, 3, 2]                \n",
      " 18            [-1, 13]  1         0  ultralytics.nn.modules.conv.Concat           [1]                           \n",
      " 19                  -1  1     86720  ultralytics.nn.modules.block.C3k2            [192, 128, 1, False]          \n",
      " 20                  -1  1    147712  ultralytics.nn.modules.conv.Conv             [128, 128, 3, 2]              \n",
      " 21            [-1, 10]  1         0  ultralytics.nn.modules.conv.Concat           [1]                           \n",
      " 22                  -1  1    378880  ultralytics.nn.modules.block.C3k2            [384, 256, 1, True]           \n",
      " 23        [16, 19, 22]  1    504874  ultralytics.nn.modules.head.OBB              [13, 1, [64, 128, 256]]       \n",
      "YOLO11n-obb summary: 344 layers, 2,664,042 parameters, 2,664,026 gradients, 6.7 GFLOPs\n",
      "\n",
      "Transferred 490/541 items from pretrained weights\n",
      "Freezing layer 'model.23.dfl.conv.weight'\n",
      "\u001b[34m\u001b[1mAMP: \u001b[0mrunning Automatic Mixed Precision (AMP) checks...\n",
      "\u001b[34m\u001b[1mAMP: \u001b[0mchecks passed ✅\n"
     ]
    },
    {
     "name": "stderr",
     "output_type": "stream",
     "text": [
      "\u001b[34m\u001b[1mtrain: \u001b[0mScanning /home/ncbernar/Code/object_detection_sandbox/util/test/train/labels... 174 images, 0 backgrounds, 0 c\u001b[0m"
     ]
    },
    {
     "name": "stdout",
     "output_type": "stream",
     "text": [
      "\u001b[34m\u001b[1mtrain: \u001b[0mNew cache created: /home/ncbernar/Code/object_detection_sandbox/util/test/train/labels.cache\n"
     ]
    },
    {
     "name": "stderr",
     "output_type": "stream",
     "text": [
      "\n",
      "\u001b[34m\u001b[1mval: \u001b[0mScanning /home/ncbernar/Code/object_detection_sandbox/util/test/val/labels... 32 images, 0 backgrounds, 0 corrup\u001b[0m"
     ]
    },
    {
     "name": "stdout",
     "output_type": "stream",
     "text": [
      "\u001b[34m\u001b[1mval: \u001b[0mNew cache created: /home/ncbernar/Code/object_detection_sandbox/util/test/val/labels.cache\n"
     ]
    },
    {
     "name": "stderr",
     "output_type": "stream",
     "text": [
      "\n"
     ]
    },
    {
     "name": "stdout",
     "output_type": "stream",
     "text": [
      "Plotting labels to /home/ncbernar/.pyenv/runs/obb/train41/labels.jpg... \n",
      "\u001b[34m\u001b[1moptimizer:\u001b[0m 'optimizer=auto' found, ignoring 'lr0=0.01' and 'momentum=0.937' and determining best 'optimizer', 'lr0' and 'momentum' automatically... \n",
      "\u001b[34m\u001b[1moptimizer:\u001b[0m AdamW(lr=0.000588, momentum=0.9) with parameter groups 87 weight(decay=0.0), 97 weight(decay=0.0005), 96 bias(decay=0.0)\n",
      "Image sizes 640 train, 640 val\n",
      "Using 8 dataloader workers\n",
      "Logging results to \u001b[1m/home/ncbernar/.pyenv/runs/obb/train41\u001b[0m\n",
      "Starting training for 100 epochs...\n",
      "\n",
      "      Epoch    GPU_mem   box_loss   cls_loss   dfl_loss  Instances       Size\n"
     ]
    },
    {
     "name": "stderr",
     "output_type": "stream",
     "text": [
      "      1/100      2.71G      2.616      5.193      2.157        260        640: 100%|██████████| 11/11 [00:05<00:00,  \n",
      "                 Class     Images  Instances      Box(P          R      mAP50  mAP50-95): 100%|██████████| 2/2 [00:00"
     ]
    },
    {
     "name": "stdout",
     "output_type": "stream",
     "text": [
      "                   all         32        352          0          0          0          0\n"
     ]
    },
    {
     "name": "stderr",
     "output_type": "stream",
     "text": [
      "\n"
     ]
    },
    {
     "name": "stdout",
     "output_type": "stream",
     "text": [
      "\n",
      "      Epoch    GPU_mem   box_loss   cls_loss   dfl_loss  Instances       Size\n"
     ]
    },
    {
     "name": "stderr",
     "output_type": "stream",
     "text": [
      "      2/100      2.91G      1.724      4.493      1.395        207        640: 100%|██████████| 11/11 [00:03<00:00,  \n",
      "                 Class     Images  Instances      Box(P          R      mAP50  mAP50-95): 100%|██████████| 2/2 [00:00"
     ]
    },
    {
     "name": "stdout",
     "output_type": "stream",
     "text": [
      "                   all         32        352          0          0          0          0\n"
     ]
    },
    {
     "name": "stderr",
     "output_type": "stream",
     "text": [
      "\n"
     ]
    },
    {
     "name": "stdout",
     "output_type": "stream",
     "text": [
      "\n",
      "      Epoch    GPU_mem   box_loss   cls_loss   dfl_loss  Instances       Size\n"
     ]
    },
    {
     "name": "stderr",
     "output_type": "stream",
     "text": [
      "      3/100      2.71G      1.601      4.075      1.278        295        640: 100%|██████████| 11/11 [00:03<00:00,  \n",
      "                 Class     Images  Instances      Box(P          R      mAP50  mAP50-95): 100%|██████████| 2/2 [00:00"
     ]
    },
    {
     "name": "stdout",
     "output_type": "stream",
     "text": [
      "                   all         32        352    0.00319     0.0507    0.00261   0.000668\n"
     ]
    },
    {
     "name": "stderr",
     "output_type": "stream",
     "text": [
      "\n"
     ]
    },
    {
     "name": "stdout",
     "output_type": "stream",
     "text": [
      "\n",
      "      Epoch    GPU_mem   box_loss   cls_loss   dfl_loss  Instances       Size\n"
     ]
    },
    {
     "name": "stderr",
     "output_type": "stream",
     "text": [
      "      4/100      2.69G      1.449      3.597      1.279        220        640: 100%|██████████| 11/11 [00:03<00:00,  \n",
      "                 Class     Images  Instances      Box(P          R      mAP50  mAP50-95): 100%|██████████| 2/2 [00:00"
     ]
    },
    {
     "name": "stdout",
     "output_type": "stream",
     "text": [
      "                   all         32        352     0.0294      0.238      0.045     0.0251\n"
     ]
    },
    {
     "name": "stderr",
     "output_type": "stream",
     "text": [
      "\n"
     ]
    },
    {
     "name": "stdout",
     "output_type": "stream",
     "text": [
      "\n",
      "      Epoch    GPU_mem   box_loss   cls_loss   dfl_loss  Instances       Size\n"
     ]
    },
    {
     "name": "stderr",
     "output_type": "stream",
     "text": [
      "      5/100      2.73G      1.414      3.153        1.2        272        640: 100%|██████████| 11/11 [00:03<00:00,  \n",
      "                 Class     Images  Instances      Box(P          R      mAP50  mAP50-95): 100%|██████████| 2/2 [00:00"
     ]
    },
    {
     "name": "stdout",
     "output_type": "stream",
     "text": [
      "                   all         32        352     0.0373      0.412      0.117       0.07\n"
     ]
    },
    {
     "name": "stderr",
     "output_type": "stream",
     "text": [
      "\n"
     ]
    },
    {
     "name": "stdout",
     "output_type": "stream",
     "text": [
      "\n",
      "      Epoch    GPU_mem   box_loss   cls_loss   dfl_loss  Instances       Size\n"
     ]
    },
    {
     "name": "stderr",
     "output_type": "stream",
     "text": [
      "      6/100      2.73G       1.35      2.831       1.17        228        640: 100%|██████████| 11/11 [00:03<00:00,  \n",
      "                 Class     Images  Instances      Box(P          R      mAP50  mAP50-95): 100%|██████████| 2/2 [00:00"
     ]
    },
    {
     "name": "stdout",
     "output_type": "stream",
     "text": [
      "                   all         32        352     0.0433      0.667      0.263      0.161\n"
     ]
    },
    {
     "name": "stderr",
     "output_type": "stream",
     "text": [
      "\n"
     ]
    },
    {
     "name": "stdout",
     "output_type": "stream",
     "text": [
      "\n",
      "      Epoch    GPU_mem   box_loss   cls_loss   dfl_loss  Instances       Size\n"
     ]
    },
    {
     "name": "stderr",
     "output_type": "stream",
     "text": [
      "      7/100       2.7G      1.237      2.557      1.181        165        640: 100%|██████████| 11/11 [00:03<00:00,  \n",
      "                 Class     Images  Instances      Box(P          R      mAP50  mAP50-95): 100%|██████████| 2/2 [00:00"
     ]
    },
    {
     "name": "stdout",
     "output_type": "stream",
     "text": [
      "                   all         32        352     0.0444      0.809      0.331      0.223\n"
     ]
    },
    {
     "name": "stderr",
     "output_type": "stream",
     "text": [
      "\n"
     ]
    },
    {
     "name": "stdout",
     "output_type": "stream",
     "text": [
      "\n",
      "      Epoch    GPU_mem   box_loss   cls_loss   dfl_loss  Instances       Size\n"
     ]
    },
    {
     "name": "stderr",
     "output_type": "stream",
     "text": [
      "      8/100      2.72G      1.198      2.293      1.194        277        640: 100%|██████████| 11/11 [00:03<00:00,  \n",
      "                 Class     Images  Instances      Box(P          R      mAP50  mAP50-95): 100%|██████████| 2/2 [00:00"
     ]
    },
    {
     "name": "stdout",
     "output_type": "stream",
     "text": [
      "                   all         32        352      0.448       0.42      0.472      0.312\n"
     ]
    },
    {
     "name": "stderr",
     "output_type": "stream",
     "text": [
      "\n"
     ]
    },
    {
     "name": "stdout",
     "output_type": "stream",
     "text": [
      "\n",
      "      Epoch    GPU_mem   box_loss   cls_loss   dfl_loss  Instances       Size\n"
     ]
    },
    {
     "name": "stderr",
     "output_type": "stream",
     "text": [
      "      9/100      2.74G      1.135      2.042      1.167        254        640: 100%|██████████| 11/11 [00:03<00:00,  \n",
      "                 Class     Images  Instances      Box(P          R      mAP50  mAP50-95): 100%|██████████| 2/2 [00:00"
     ]
    },
    {
     "name": "stdout",
     "output_type": "stream",
     "text": [
      "                   all         32        352      0.637       0.17      0.511      0.343\n"
     ]
    },
    {
     "name": "stderr",
     "output_type": "stream",
     "text": [
      "\n"
     ]
    },
    {
     "name": "stdout",
     "output_type": "stream",
     "text": [
      "\n",
      "      Epoch    GPU_mem   box_loss   cls_loss   dfl_loss  Instances       Size\n"
     ]
    },
    {
     "name": "stderr",
     "output_type": "stream",
     "text": [
      "     10/100      2.72G      1.094        1.9      1.171        205        640: 100%|██████████| 11/11 [00:03<00:00,  \n",
      "                 Class     Images  Instances      Box(P          R      mAP50  mAP50-95): 100%|██████████| 2/2 [00:00"
     ]
    },
    {
     "name": "stdout",
     "output_type": "stream",
     "text": [
      "                   all         32        352      0.772      0.223      0.584      0.393\n"
     ]
    },
    {
     "name": "stderr",
     "output_type": "stream",
     "text": [
      "\n"
     ]
    },
    {
     "name": "stdout",
     "output_type": "stream",
     "text": [
      "\n",
      "      Epoch    GPU_mem   box_loss   cls_loss   dfl_loss  Instances       Size\n"
     ]
    },
    {
     "name": "stderr",
     "output_type": "stream",
     "text": [
      "     11/100      2.82G      1.054      1.767      1.196        249        640: 100%|██████████| 11/11 [00:03<00:00,  \n",
      "                 Class     Images  Instances      Box(P          R      mAP50  mAP50-95): 100%|██████████| 2/2 [00:00"
     ]
    },
    {
     "name": "stdout",
     "output_type": "stream",
     "text": [
      "                   all         32        352      0.732      0.392      0.675       0.47\n"
     ]
    },
    {
     "name": "stderr",
     "output_type": "stream",
     "text": [
      "\n"
     ]
    },
    {
     "name": "stdout",
     "output_type": "stream",
     "text": [
      "\n",
      "      Epoch    GPU_mem   box_loss   cls_loss   dfl_loss  Instances       Size\n"
     ]
    },
    {
     "name": "stderr",
     "output_type": "stream",
     "text": [
      "     12/100      2.74G      1.005      1.622      1.227        174        640: 100%|██████████| 11/11 [00:03<00:00,  \n",
      "                 Class     Images  Instances      Box(P          R      mAP50  mAP50-95): 100%|██████████| 2/2 [00:00"
     ]
    },
    {
     "name": "stdout",
     "output_type": "stream",
     "text": [
      "                   all         32        352      0.713      0.665      0.753      0.519\n"
     ]
    },
    {
     "name": "stderr",
     "output_type": "stream",
     "text": [
      "\n"
     ]
    },
    {
     "name": "stdout",
     "output_type": "stream",
     "text": [
      "\n",
      "      Epoch    GPU_mem   box_loss   cls_loss   dfl_loss  Instances       Size\n"
     ]
    },
    {
     "name": "stderr",
     "output_type": "stream",
     "text": [
      "     13/100      2.72G      1.042       1.55      1.198        141        640: 100%|██████████| 11/11 [00:03<00:00,  \n",
      "                 Class     Images  Instances      Box(P          R      mAP50  mAP50-95): 100%|██████████| 2/2 [00:00"
     ]
    },
    {
     "name": "stdout",
     "output_type": "stream",
     "text": [
      "                   all         32        352      0.745      0.683      0.769      0.535\n"
     ]
    },
    {
     "name": "stderr",
     "output_type": "stream",
     "text": [
      "\n"
     ]
    },
    {
     "name": "stdout",
     "output_type": "stream",
     "text": [
      "\n",
      "      Epoch    GPU_mem   box_loss   cls_loss   dfl_loss  Instances       Size\n"
     ]
    },
    {
     "name": "stderr",
     "output_type": "stream",
     "text": [
      "     14/100       2.8G      1.036      1.494      1.212        244        640: 100%|██████████| 11/11 [00:03<00:00,  \n",
      "                 Class     Images  Instances      Box(P          R      mAP50  mAP50-95): 100%|██████████| 2/2 [00:00"
     ]
    },
    {
     "name": "stdout",
     "output_type": "stream",
     "text": [
      "                   all         32        352      0.761      0.707      0.794      0.544\n"
     ]
    },
    {
     "name": "stderr",
     "output_type": "stream",
     "text": [
      "\n"
     ]
    },
    {
     "name": "stdout",
     "output_type": "stream",
     "text": [
      "\n",
      "      Epoch    GPU_mem   box_loss   cls_loss   dfl_loss  Instances       Size\n"
     ]
    },
    {
     "name": "stderr",
     "output_type": "stream",
     "text": [
      "     15/100      2.72G      1.045      1.409       1.22        186        640: 100%|██████████| 11/11 [00:03<00:00,  \n",
      "                 Class     Images  Instances      Box(P          R      mAP50  mAP50-95): 100%|██████████| 2/2 [00:00"
     ]
    },
    {
     "name": "stdout",
     "output_type": "stream",
     "text": [
      "                   all         32        352       0.76       0.77      0.823      0.575\n"
     ]
    },
    {
     "name": "stderr",
     "output_type": "stream",
     "text": [
      "\n"
     ]
    },
    {
     "name": "stdout",
     "output_type": "stream",
     "text": [
      "\n",
      "      Epoch    GPU_mem   box_loss   cls_loss   dfl_loss  Instances       Size\n"
     ]
    },
    {
     "name": "stderr",
     "output_type": "stream",
     "text": [
      "     16/100      2.73G      0.971      1.339      1.193        236        640: 100%|██████████| 11/11 [00:03<00:00,  \n",
      "                 Class     Images  Instances      Box(P          R      mAP50  mAP50-95): 100%|██████████| 2/2 [00:00"
     ]
    },
    {
     "name": "stdout",
     "output_type": "stream",
     "text": [
      "                   all         32        352      0.781      0.779      0.853      0.579\n"
     ]
    },
    {
     "name": "stderr",
     "output_type": "stream",
     "text": [
      "\n"
     ]
    },
    {
     "name": "stdout",
     "output_type": "stream",
     "text": [
      "\n",
      "      Epoch    GPU_mem   box_loss   cls_loss   dfl_loss  Instances       Size\n"
     ]
    },
    {
     "name": "stderr",
     "output_type": "stream",
     "text": [
      "     17/100       2.8G     0.9349      1.274       1.23        213        640: 100%|██████████| 11/11 [00:03<00:00,  \n",
      "                 Class     Images  Instances      Box(P          R      mAP50  mAP50-95): 100%|██████████| 2/2 [00:00"
     ]
    },
    {
     "name": "stdout",
     "output_type": "stream",
     "text": [
      "                   all         32        352      0.811      0.824       0.87      0.612\n"
     ]
    },
    {
     "name": "stderr",
     "output_type": "stream",
     "text": [
      "\n"
     ]
    },
    {
     "name": "stdout",
     "output_type": "stream",
     "text": [
      "\n",
      "      Epoch    GPU_mem   box_loss   cls_loss   dfl_loss  Instances       Size\n"
     ]
    },
    {
     "name": "stderr",
     "output_type": "stream",
     "text": [
      "     18/100      2.72G      0.935      1.242      1.213        346        640: 100%|██████████| 11/11 [00:03<00:00,  \n",
      "                 Class     Images  Instances      Box(P          R      mAP50  mAP50-95): 100%|██████████| 2/2 [00:00"
     ]
    },
    {
     "name": "stdout",
     "output_type": "stream",
     "text": [
      "                   all         32        352      0.866      0.837      0.913      0.647\n"
     ]
    },
    {
     "name": "stderr",
     "output_type": "stream",
     "text": [
      "\n"
     ]
    },
    {
     "name": "stdout",
     "output_type": "stream",
     "text": [
      "\n",
      "      Epoch    GPU_mem   box_loss   cls_loss   dfl_loss  Instances       Size\n"
     ]
    },
    {
     "name": "stderr",
     "output_type": "stream",
     "text": [
      "     19/100      2.74G     0.9134      1.178      1.213        213        640: 100%|██████████| 11/11 [00:03<00:00,  \n",
      "                 Class     Images  Instances      Box(P          R      mAP50  mAP50-95): 100%|██████████| 2/2 [00:00"
     ]
    },
    {
     "name": "stdout",
     "output_type": "stream",
     "text": [
      "                   all         32        352      0.893      0.871      0.933      0.672\n"
     ]
    },
    {
     "name": "stderr",
     "output_type": "stream",
     "text": [
      "\n"
     ]
    },
    {
     "name": "stdout",
     "output_type": "stream",
     "text": [
      "\n",
      "      Epoch    GPU_mem   box_loss   cls_loss   dfl_loss  Instances       Size\n"
     ]
    },
    {
     "name": "stderr",
     "output_type": "stream",
     "text": [
      "     20/100      2.73G     0.8884      1.116      1.194        201        640: 100%|██████████| 11/11 [00:03<00:00,  \n",
      "                 Class     Images  Instances      Box(P          R      mAP50  mAP50-95): 100%|██████████| 2/2 [00:00"
     ]
    },
    {
     "name": "stdout",
     "output_type": "stream",
     "text": [
      "                   all         32        352      0.914      0.865      0.938      0.671\n"
     ]
    },
    {
     "name": "stderr",
     "output_type": "stream",
     "text": [
      "\n"
     ]
    },
    {
     "name": "stdout",
     "output_type": "stream",
     "text": [
      "\n",
      "      Epoch    GPU_mem   box_loss   cls_loss   dfl_loss  Instances       Size\n"
     ]
    },
    {
     "name": "stderr",
     "output_type": "stream",
     "text": [
      "     21/100      2.73G     0.8632      1.076      1.203        213        640: 100%|██████████| 11/11 [00:03<00:00,  \n",
      "                 Class     Images  Instances      Box(P          R      mAP50  mAP50-95): 100%|██████████| 2/2 [00:00"
     ]
    },
    {
     "name": "stdout",
     "output_type": "stream",
     "text": [
      "                   all         32        352      0.877      0.899      0.949       0.68\n"
     ]
    },
    {
     "name": "stderr",
     "output_type": "stream",
     "text": [
      "\n"
     ]
    },
    {
     "name": "stdout",
     "output_type": "stream",
     "text": [
      "\n",
      "      Epoch    GPU_mem   box_loss   cls_loss   dfl_loss  Instances       Size\n"
     ]
    },
    {
     "name": "stderr",
     "output_type": "stream",
     "text": [
      "     22/100      2.83G     0.8504      1.024      1.171        315        640: 100%|██████████| 11/11 [00:03<00:00,  \n",
      "                 Class     Images  Instances      Box(P          R      mAP50  mAP50-95): 100%|██████████| 2/2 [00:00"
     ]
    },
    {
     "name": "stdout",
     "output_type": "stream",
     "text": [
      "                   all         32        352      0.929      0.891      0.948      0.687\n"
     ]
    },
    {
     "name": "stderr",
     "output_type": "stream",
     "text": [
      "\n"
     ]
    },
    {
     "name": "stdout",
     "output_type": "stream",
     "text": [
      "\n",
      "      Epoch    GPU_mem   box_loss   cls_loss   dfl_loss  Instances       Size\n"
     ]
    },
    {
     "name": "stderr",
     "output_type": "stream",
     "text": [
      "     23/100      2.82G     0.8506      1.026      1.177        248        640: 100%|██████████| 11/11 [00:03<00:00,  \n",
      "                 Class     Images  Instances      Box(P          R      mAP50  mAP50-95): 100%|██████████| 2/2 [00:00"
     ]
    },
    {
     "name": "stdout",
     "output_type": "stream",
     "text": [
      "                   all         32        352      0.943      0.913      0.956      0.686\n"
     ]
    },
    {
     "name": "stderr",
     "output_type": "stream",
     "text": [
      "\n"
     ]
    },
    {
     "name": "stdout",
     "output_type": "stream",
     "text": [
      "\n",
      "      Epoch    GPU_mem   box_loss   cls_loss   dfl_loss  Instances       Size\n"
     ]
    },
    {
     "name": "stderr",
     "output_type": "stream",
     "text": [
      "     24/100      2.73G     0.8448     0.9557      1.189        221        640: 100%|██████████| 11/11 [00:03<00:00,  \n",
      "                 Class     Images  Instances      Box(P          R      mAP50  mAP50-95): 100%|██████████| 2/2 [00:00"
     ]
    },
    {
     "name": "stdout",
     "output_type": "stream",
     "text": [
      "                   all         32        352      0.957      0.937       0.97      0.702\n"
     ]
    },
    {
     "name": "stderr",
     "output_type": "stream",
     "text": [
      "\n"
     ]
    },
    {
     "name": "stdout",
     "output_type": "stream",
     "text": [
      "\n",
      "      Epoch    GPU_mem   box_loss   cls_loss   dfl_loss  Instances       Size\n"
     ]
    },
    {
     "name": "stderr",
     "output_type": "stream",
     "text": [
      "     25/100       2.7G     0.8468     0.9297      1.214        174        640: 100%|██████████| 11/11 [00:03<00:00,  \n",
      "                 Class     Images  Instances      Box(P          R      mAP50  mAP50-95): 100%|██████████| 2/2 [00:00"
     ]
    },
    {
     "name": "stdout",
     "output_type": "stream",
     "text": [
      "                   all         32        352      0.963      0.934      0.972      0.695\n"
     ]
    },
    {
     "name": "stderr",
     "output_type": "stream",
     "text": [
      "\n"
     ]
    },
    {
     "name": "stdout",
     "output_type": "stream",
     "text": [
      "\n",
      "      Epoch    GPU_mem   box_loss   cls_loss   dfl_loss  Instances       Size\n"
     ]
    },
    {
     "name": "stderr",
     "output_type": "stream",
     "text": [
      "     26/100       2.7G     0.8216     0.9073      1.198        174        640: 100%|██████████| 11/11 [00:03<00:00,  \n",
      "                 Class     Images  Instances      Box(P          R      mAP50  mAP50-95): 100%|██████████| 2/2 [00:00"
     ]
    },
    {
     "name": "stdout",
     "output_type": "stream",
     "text": [
      "                   all         32        352      0.966      0.929      0.968      0.696\n"
     ]
    },
    {
     "name": "stderr",
     "output_type": "stream",
     "text": [
      "\n"
     ]
    },
    {
     "name": "stdout",
     "output_type": "stream",
     "text": [
      "\n",
      "      Epoch    GPU_mem   box_loss   cls_loss   dfl_loss  Instances       Size\n"
     ]
    },
    {
     "name": "stderr",
     "output_type": "stream",
     "text": [
      "     27/100      2.71G     0.8217     0.8664      1.201        288        640: 100%|██████████| 11/11 [00:03<00:00,  \n",
      "                 Class     Images  Instances      Box(P          R      mAP50  mAP50-95): 100%|██████████| 2/2 [00:00"
     ]
    },
    {
     "name": "stdout",
     "output_type": "stream",
     "text": [
      "                   all         32        352      0.948      0.969      0.978       0.71\n"
     ]
    },
    {
     "name": "stderr",
     "output_type": "stream",
     "text": [
      "\n"
     ]
    },
    {
     "name": "stdout",
     "output_type": "stream",
     "text": [
      "\n",
      "      Epoch    GPU_mem   box_loss   cls_loss   dfl_loss  Instances       Size\n"
     ]
    },
    {
     "name": "stderr",
     "output_type": "stream",
     "text": [
      "     28/100      2.73G     0.7992     0.8717      1.182        223        640: 100%|██████████| 11/11 [00:03<00:00,  \n",
      "                 Class     Images  Instances      Box(P          R      mAP50  mAP50-95): 100%|██████████| 2/2 [00:00"
     ]
    },
    {
     "name": "stdout",
     "output_type": "stream",
     "text": [
      "                   all         32        352      0.957      0.942      0.973      0.704\n"
     ]
    },
    {
     "name": "stderr",
     "output_type": "stream",
     "text": [
      "\n"
     ]
    },
    {
     "name": "stdout",
     "output_type": "stream",
     "text": [
      "\n",
      "      Epoch    GPU_mem   box_loss   cls_loss   dfl_loss  Instances       Size\n"
     ]
    },
    {
     "name": "stderr",
     "output_type": "stream",
     "text": [
      "     29/100      2.72G     0.8257     0.8596      1.202        171        640: 100%|██████████| 11/11 [00:03<00:00,  \n",
      "                 Class     Images  Instances      Box(P          R      mAP50  mAP50-95): 100%|██████████| 2/2 [00:00"
     ]
    },
    {
     "name": "stdout",
     "output_type": "stream",
     "text": [
      "                   all         32        352      0.963      0.942      0.973      0.694\n"
     ]
    },
    {
     "name": "stderr",
     "output_type": "stream",
     "text": [
      "\n"
     ]
    },
    {
     "name": "stdout",
     "output_type": "stream",
     "text": [
      "\n",
      "      Epoch    GPU_mem   box_loss   cls_loss   dfl_loss  Instances       Size\n"
     ]
    },
    {
     "name": "stderr",
     "output_type": "stream",
     "text": [
      "     30/100      2.75G     0.7862     0.8226      1.173        279        640: 100%|██████████| 11/11 [00:03<00:00,  \n",
      "                 Class     Images  Instances      Box(P          R      mAP50  mAP50-95): 100%|██████████| 2/2 [00:00\n"
     ]
    },
    {
     "name": "stdout",
     "output_type": "stream",
     "text": [
      "                   all         32        352      0.964      0.953      0.975      0.709\n",
      "\n",
      "      Epoch    GPU_mem   box_loss   cls_loss   dfl_loss  Instances       Size\n"
     ]
    },
    {
     "name": "stderr",
     "output_type": "stream",
     "text": [
      "     31/100      2.72G      0.772      0.788      1.199        268        640: 100%|██████████| 11/11 [00:03<00:00,  \n",
      "                 Class     Images  Instances      Box(P          R      mAP50  mAP50-95): 100%|██████████| 2/2 [00:00"
     ]
    },
    {
     "name": "stdout",
     "output_type": "stream",
     "text": [
      "                   all         32        352      0.959       0.96      0.975      0.711\n"
     ]
    },
    {
     "name": "stderr",
     "output_type": "stream",
     "text": [
      "\n"
     ]
    },
    {
     "name": "stdout",
     "output_type": "stream",
     "text": [
      "\n",
      "      Epoch    GPU_mem   box_loss   cls_loss   dfl_loss  Instances       Size\n"
     ]
    },
    {
     "name": "stderr",
     "output_type": "stream",
     "text": [
      "     32/100      2.73G     0.7784     0.7831      1.171        209        640: 100%|██████████| 11/11 [00:03<00:00,  \n",
      "                 Class     Images  Instances      Box(P          R      mAP50  mAP50-95): 100%|██████████| 2/2 [00:00"
     ]
    },
    {
     "name": "stdout",
     "output_type": "stream",
     "text": [
      "                   all         32        352      0.969      0.946      0.981      0.713\n"
     ]
    },
    {
     "name": "stderr",
     "output_type": "stream",
     "text": [
      "\n"
     ]
    },
    {
     "name": "stdout",
     "output_type": "stream",
     "text": [
      "\n",
      "      Epoch    GPU_mem   box_loss   cls_loss   dfl_loss  Instances       Size\n"
     ]
    },
    {
     "name": "stderr",
     "output_type": "stream",
     "text": [
      "     33/100       2.7G     0.7788     0.7789      1.178        173        640: 100%|██████████| 11/11 [00:03<00:00,  \n",
      "                 Class     Images  Instances      Box(P          R      mAP50  mAP50-95): 100%|██████████| 2/2 [00:00"
     ]
    },
    {
     "name": "stdout",
     "output_type": "stream",
     "text": [
      "                   all         32        352      0.965      0.957       0.98      0.712\n"
     ]
    },
    {
     "name": "stderr",
     "output_type": "stream",
     "text": [
      "\n"
     ]
    },
    {
     "name": "stdout",
     "output_type": "stream",
     "text": [
      "\n",
      "      Epoch    GPU_mem   box_loss   cls_loss   dfl_loss  Instances       Size\n"
     ]
    },
    {
     "name": "stderr",
     "output_type": "stream",
     "text": [
      "     34/100      2.71G     0.7877     0.7763      1.158        211        640: 100%|██████████| 11/11 [00:03<00:00,  \n",
      "                 Class     Images  Instances      Box(P          R      mAP50  mAP50-95): 100%|██████████| 2/2 [00:00"
     ]
    },
    {
     "name": "stdout",
     "output_type": "stream",
     "text": [
      "                   all         32        352      0.966      0.961      0.981      0.701\n"
     ]
    },
    {
     "name": "stderr",
     "output_type": "stream",
     "text": [
      "\n"
     ]
    },
    {
     "name": "stdout",
     "output_type": "stream",
     "text": [
      "\n",
      "      Epoch    GPU_mem   box_loss   cls_loss   dfl_loss  Instances       Size\n"
     ]
    },
    {
     "name": "stderr",
     "output_type": "stream",
     "text": [
      "     35/100      2.69G     0.7658     0.7594      1.161        197        640: 100%|██████████| 11/11 [00:03<00:00,  \n",
      "                 Class     Images  Instances      Box(P          R      mAP50  mAP50-95): 100%|██████████| 2/2 [00:00"
     ]
    },
    {
     "name": "stdout",
     "output_type": "stream",
     "text": [
      "                   all         32        352      0.964      0.961      0.975      0.711\n"
     ]
    },
    {
     "name": "stderr",
     "output_type": "stream",
     "text": [
      "\n"
     ]
    },
    {
     "name": "stdout",
     "output_type": "stream",
     "text": [
      "\n",
      "      Epoch    GPU_mem   box_loss   cls_loss   dfl_loss  Instances       Size\n"
     ]
    },
    {
     "name": "stderr",
     "output_type": "stream",
     "text": [
      "     36/100      2.73G     0.7781     0.7775      1.157        330        640: 100%|██████████| 11/11 [00:03<00:00,  \n",
      "                 Class     Images  Instances      Box(P          R      mAP50  mAP50-95): 100%|██████████| 2/2 [00:00"
     ]
    },
    {
     "name": "stdout",
     "output_type": "stream",
     "text": [
      "                   all         32        352      0.949      0.963      0.983      0.701\n"
     ]
    },
    {
     "name": "stderr",
     "output_type": "stream",
     "text": [
      "\n"
     ]
    },
    {
     "name": "stdout",
     "output_type": "stream",
     "text": [
      "\n",
      "      Epoch    GPU_mem   box_loss   cls_loss   dfl_loss  Instances       Size\n"
     ]
    },
    {
     "name": "stderr",
     "output_type": "stream",
     "text": [
      "     37/100       2.7G     0.7728     0.7542      1.181        208        640: 100%|██████████| 11/11 [00:03<00:00,  \n",
      "                 Class     Images  Instances      Box(P          R      mAP50  mAP50-95): 100%|██████████| 2/2 [00:00"
     ]
    },
    {
     "name": "stdout",
     "output_type": "stream",
     "text": [
      "                   all         32        352      0.943      0.978      0.985      0.715\n"
     ]
    },
    {
     "name": "stderr",
     "output_type": "stream",
     "text": [
      "\n"
     ]
    },
    {
     "name": "stdout",
     "output_type": "stream",
     "text": [
      "\n",
      "      Epoch    GPU_mem   box_loss   cls_loss   dfl_loss  Instances       Size\n"
     ]
    },
    {
     "name": "stderr",
     "output_type": "stream",
     "text": [
      "     38/100      2.73G     0.7754     0.7322      1.138        172        640: 100%|██████████| 11/11 [00:03<00:00,  \n",
      "                 Class     Images  Instances      Box(P          R      mAP50  mAP50-95): 100%|██████████| 2/2 [00:00"
     ]
    },
    {
     "name": "stdout",
     "output_type": "stream",
     "text": [
      "                   all         32        352      0.968      0.976      0.986      0.705\n"
     ]
    },
    {
     "name": "stderr",
     "output_type": "stream",
     "text": [
      "\n"
     ]
    },
    {
     "name": "stdout",
     "output_type": "stream",
     "text": [
      "\n",
      "      Epoch    GPU_mem   box_loss   cls_loss   dfl_loss  Instances       Size\n"
     ]
    },
    {
     "name": "stderr",
     "output_type": "stream",
     "text": [
      "     39/100      2.75G     0.7899     0.7617      1.154        187        640: 100%|██████████| 11/11 [00:03<00:00,  \n",
      "                 Class     Images  Instances      Box(P          R      mAP50  mAP50-95): 100%|██████████| 2/2 [00:00"
     ]
    },
    {
     "name": "stdout",
     "output_type": "stream",
     "text": [
      "                   all         32        352      0.971      0.976      0.984      0.713\n"
     ]
    },
    {
     "name": "stderr",
     "output_type": "stream",
     "text": [
      "\n"
     ]
    },
    {
     "name": "stdout",
     "output_type": "stream",
     "text": [
      "\n",
      "      Epoch    GPU_mem   box_loss   cls_loss   dfl_loss  Instances       Size\n"
     ]
    },
    {
     "name": "stderr",
     "output_type": "stream",
     "text": [
      "     40/100      2.74G     0.7552     0.7293      1.123        237        640: 100%|██████████| 11/11 [00:03<00:00,  \n",
      "                 Class     Images  Instances      Box(P          R      mAP50  mAP50-95): 100%|██████████| 2/2 [00:00"
     ]
    },
    {
     "name": "stdout",
     "output_type": "stream",
     "text": [
      "                   all         32        352      0.977      0.967      0.987      0.708\n"
     ]
    },
    {
     "name": "stderr",
     "output_type": "stream",
     "text": [
      "\n"
     ]
    },
    {
     "name": "stdout",
     "output_type": "stream",
     "text": [
      "\n",
      "      Epoch    GPU_mem   box_loss   cls_loss   dfl_loss  Instances       Size\n"
     ]
    },
    {
     "name": "stderr",
     "output_type": "stream",
     "text": [
      "     41/100      2.72G     0.7153     0.6897       1.16        211        640: 100%|██████████| 11/11 [00:03<00:00,  \n",
      "                 Class     Images  Instances      Box(P          R      mAP50  mAP50-95): 100%|██████████| 2/2 [00:00"
     ]
    },
    {
     "name": "stdout",
     "output_type": "stream",
     "text": [
      "                   all         32        352      0.976      0.974      0.987      0.717\n"
     ]
    },
    {
     "name": "stderr",
     "output_type": "stream",
     "text": [
      "\n"
     ]
    },
    {
     "name": "stdout",
     "output_type": "stream",
     "text": [
      "\n",
      "      Epoch    GPU_mem   box_loss   cls_loss   dfl_loss  Instances       Size\n"
     ]
    },
    {
     "name": "stderr",
     "output_type": "stream",
     "text": [
      "     42/100      2.72G     0.7515     0.7146      1.147        281        640: 100%|██████████| 11/11 [00:03<00:00,  \n",
      "                 Class     Images  Instances      Box(P          R      mAP50  mAP50-95): 100%|██████████| 2/2 [00:00\n"
     ]
    },
    {
     "name": "stdout",
     "output_type": "stream",
     "text": [
      "                   all         32        352      0.979      0.967      0.984      0.713\n",
      "\n",
      "      Epoch    GPU_mem   box_loss   cls_loss   dfl_loss  Instances       Size\n"
     ]
    },
    {
     "name": "stderr",
     "output_type": "stream",
     "text": [
      "     43/100       2.7G     0.7259     0.7138      1.134        170        640: 100%|██████████| 11/11 [00:03<00:00,  \n",
      "                 Class     Images  Instances      Box(P          R      mAP50  mAP50-95): 100%|██████████| 2/2 [00:00"
     ]
    },
    {
     "name": "stdout",
     "output_type": "stream",
     "text": [
      "                   all         32        352      0.987      0.959      0.984       0.71\n"
     ]
    },
    {
     "name": "stderr",
     "output_type": "stream",
     "text": [
      "\n"
     ]
    },
    {
     "name": "stdout",
     "output_type": "stream",
     "text": [
      "\n",
      "      Epoch    GPU_mem   box_loss   cls_loss   dfl_loss  Instances       Size\n"
     ]
    },
    {
     "name": "stderr",
     "output_type": "stream",
     "text": [
      "     44/100      2.73G     0.7391     0.7167       1.13        130        640: 100%|██████████| 11/11 [00:03<00:00,  \n",
      "                 Class     Images  Instances      Box(P          R      mAP50  mAP50-95): 100%|██████████| 2/2 [00:00"
     ]
    },
    {
     "name": "stdout",
     "output_type": "stream",
     "text": [
      "                   all         32        352      0.989      0.962      0.987      0.714\n"
     ]
    },
    {
     "name": "stderr",
     "output_type": "stream",
     "text": [
      "\n"
     ]
    },
    {
     "name": "stdout",
     "output_type": "stream",
     "text": [
      "\n",
      "      Epoch    GPU_mem   box_loss   cls_loss   dfl_loss  Instances       Size\n"
     ]
    },
    {
     "name": "stderr",
     "output_type": "stream",
     "text": [
      "     45/100      2.74G     0.7411     0.7137      1.161        218        640: 100%|██████████| 11/11 [00:03<00:00,  \n",
      "                 Class     Images  Instances      Box(P          R      mAP50  mAP50-95): 100%|██████████| 2/2 [00:00\n"
     ]
    },
    {
     "name": "stdout",
     "output_type": "stream",
     "text": [
      "                   all         32        352      0.986      0.964      0.987      0.716\n",
      "\n",
      "      Epoch    GPU_mem   box_loss   cls_loss   dfl_loss  Instances       Size\n"
     ]
    },
    {
     "name": "stderr",
     "output_type": "stream",
     "text": [
      "     46/100       2.7G     0.7312      0.724      1.159        244        640: 100%|██████████| 11/11 [00:03<00:00,  \n",
      "                 Class     Images  Instances      Box(P          R      mAP50  mAP50-95): 100%|██████████| 2/2 [00:00"
     ]
    },
    {
     "name": "stdout",
     "output_type": "stream",
     "text": [
      "                   all         32        352      0.979      0.963      0.984      0.711\n"
     ]
    },
    {
     "name": "stderr",
     "output_type": "stream",
     "text": [
      "\n"
     ]
    },
    {
     "name": "stdout",
     "output_type": "stream",
     "text": [
      "\n",
      "      Epoch    GPU_mem   box_loss   cls_loss   dfl_loss  Instances       Size\n"
     ]
    },
    {
     "name": "stderr",
     "output_type": "stream",
     "text": [
      "     47/100       2.7G     0.7714     0.7218      1.129        197        640: 100%|██████████| 11/11 [00:03<00:00,  \n",
      "                 Class     Images  Instances      Box(P          R      mAP50  mAP50-95): 100%|██████████| 2/2 [00:00"
     ]
    },
    {
     "name": "stdout",
     "output_type": "stream",
     "text": [
      "                   all         32        352      0.973      0.972      0.984       0.71\n"
     ]
    },
    {
     "name": "stderr",
     "output_type": "stream",
     "text": [
      "\n"
     ]
    },
    {
     "name": "stdout",
     "output_type": "stream",
     "text": [
      "\n",
      "      Epoch    GPU_mem   box_loss   cls_loss   dfl_loss  Instances       Size\n"
     ]
    },
    {
     "name": "stderr",
     "output_type": "stream",
     "text": [
      "     48/100      2.73G     0.7398     0.7082      1.149        226        640: 100%|██████████| 11/11 [00:03<00:00,  \n",
      "                 Class     Images  Instances      Box(P          R      mAP50  mAP50-95): 100%|██████████| 2/2 [00:00"
     ]
    },
    {
     "name": "stdout",
     "output_type": "stream",
     "text": [
      "                   all         32        352      0.981      0.963      0.984      0.708\n"
     ]
    },
    {
     "name": "stderr",
     "output_type": "stream",
     "text": [
      "\n"
     ]
    },
    {
     "name": "stdout",
     "output_type": "stream",
     "text": [
      "\n",
      "      Epoch    GPU_mem   box_loss   cls_loss   dfl_loss  Instances       Size\n"
     ]
    },
    {
     "name": "stderr",
     "output_type": "stream",
     "text": [
      "     49/100       2.7G     0.7453     0.6762      1.145        223        640: 100%|██████████| 11/11 [00:03<00:00,  \n",
      "                 Class     Images  Instances      Box(P          R      mAP50  mAP50-95): 100%|██████████| 2/2 [00:00\n"
     ]
    },
    {
     "name": "stdout",
     "output_type": "stream",
     "text": [
      "                   all         32        352      0.981      0.968      0.985      0.706\n",
      "\n",
      "      Epoch    GPU_mem   box_loss   cls_loss   dfl_loss  Instances       Size\n"
     ]
    },
    {
     "name": "stderr",
     "output_type": "stream",
     "text": [
      "     50/100       2.8G      0.718     0.6644      1.136        214        640: 100%|██████████| 11/11 [00:03<00:00,  \n",
      "                 Class     Images  Instances      Box(P          R      mAP50  mAP50-95): 100%|██████████| 2/2 [00:00"
     ]
    },
    {
     "name": "stdout",
     "output_type": "stream",
     "text": [
      "                   all         32        352      0.977      0.972      0.988      0.716\n"
     ]
    },
    {
     "name": "stderr",
     "output_type": "stream",
     "text": [
      "\n"
     ]
    },
    {
     "name": "stdout",
     "output_type": "stream",
     "text": [
      "\n",
      "      Epoch    GPU_mem   box_loss   cls_loss   dfl_loss  Instances       Size\n"
     ]
    },
    {
     "name": "stderr",
     "output_type": "stream",
     "text": [
      "     51/100       2.7G     0.7392     0.6747      1.146        213        640: 100%|██████████| 11/11 [00:03<00:00,  \n",
      "                 Class     Images  Instances      Box(P          R      mAP50  mAP50-95): 100%|██████████| 2/2 [00:00"
     ]
    },
    {
     "name": "stdout",
     "output_type": "stream",
     "text": [
      "                   all         32        352      0.982      0.973      0.989      0.708\n"
     ]
    },
    {
     "name": "stderr",
     "output_type": "stream",
     "text": [
      "\n"
     ]
    },
    {
     "name": "stdout",
     "output_type": "stream",
     "text": [
      "\n",
      "      Epoch    GPU_mem   box_loss   cls_loss   dfl_loss  Instances       Size\n"
     ]
    },
    {
     "name": "stderr",
     "output_type": "stream",
     "text": [
      "     52/100      2.72G     0.7312      0.675      1.157        239        640: 100%|██████████| 11/11 [00:03<00:00,  \n",
      "                 Class     Images  Instances      Box(P          R      mAP50  mAP50-95): 100%|██████████| 2/2 [00:00"
     ]
    },
    {
     "name": "stdout",
     "output_type": "stream",
     "text": [
      "                   all         32        352      0.972      0.983      0.988      0.713\n"
     ]
    },
    {
     "name": "stderr",
     "output_type": "stream",
     "text": [
      "\n"
     ]
    },
    {
     "name": "stdout",
     "output_type": "stream",
     "text": [
      "\n",
      "      Epoch    GPU_mem   box_loss   cls_loss   dfl_loss  Instances       Size\n"
     ]
    },
    {
     "name": "stderr",
     "output_type": "stream",
     "text": [
      "     53/100      2.74G     0.7077     0.6536      1.188        178        640: 100%|██████████| 11/11 [00:03<00:00,  \n",
      "                 Class     Images  Instances      Box(P          R      mAP50  mAP50-95): 100%|██████████| 2/2 [00:00\n"
     ]
    },
    {
     "name": "stdout",
     "output_type": "stream",
     "text": [
      "                   all         32        352      0.968      0.977      0.988      0.709\n",
      "\n",
      "      Epoch    GPU_mem   box_loss   cls_loss   dfl_loss  Instances       Size\n"
     ]
    },
    {
     "name": "stderr",
     "output_type": "stream",
     "text": [
      "     54/100      2.72G     0.6995     0.6591      1.116        271        640: 100%|██████████| 11/11 [00:03<00:00,  \n",
      "                 Class     Images  Instances      Box(P          R      mAP50  mAP50-95): 100%|██████████| 2/2 [00:00"
     ]
    },
    {
     "name": "stdout",
     "output_type": "stream",
     "text": [
      "                   all         32        352      0.983      0.967      0.988       0.72\n"
     ]
    },
    {
     "name": "stderr",
     "output_type": "stream",
     "text": [
      "\n"
     ]
    },
    {
     "name": "stdout",
     "output_type": "stream",
     "text": [
      "\n",
      "      Epoch    GPU_mem   box_loss   cls_loss   dfl_loss  Instances       Size\n"
     ]
    },
    {
     "name": "stderr",
     "output_type": "stream",
     "text": [
      "     55/100      2.72G     0.6961     0.6574       1.12        211        640: 100%|██████████| 11/11 [00:03<00:00,  \n",
      "                 Class     Images  Instances      Box(P          R      mAP50  mAP50-95): 100%|██████████| 2/2 [00:00"
     ]
    },
    {
     "name": "stdout",
     "output_type": "stream",
     "text": [
      "                   all         32        352      0.984       0.97      0.988      0.722\n"
     ]
    },
    {
     "name": "stderr",
     "output_type": "stream",
     "text": [
      "\n"
     ]
    },
    {
     "name": "stdout",
     "output_type": "stream",
     "text": [
      "\n",
      "      Epoch    GPU_mem   box_loss   cls_loss   dfl_loss  Instances       Size\n"
     ]
    },
    {
     "name": "stderr",
     "output_type": "stream",
     "text": [
      "     56/100       2.7G     0.6942     0.6501      1.142        212        640: 100%|██████████| 11/11 [00:03<00:00,  \n",
      "                 Class     Images  Instances      Box(P          R      mAP50  mAP50-95): 100%|██████████| 2/2 [00:00\n"
     ]
    },
    {
     "name": "stdout",
     "output_type": "stream",
     "text": [
      "                   all         32        352      0.984      0.972      0.988      0.722\n",
      "\n",
      "      Epoch    GPU_mem   box_loss   cls_loss   dfl_loss  Instances       Size\n"
     ]
    },
    {
     "name": "stderr",
     "output_type": "stream",
     "text": [
      "     57/100      2.72G     0.7099     0.6715      1.117        237        640: 100%|██████████| 11/11 [00:03<00:00,  \n",
      "                 Class     Images  Instances      Box(P          R      mAP50  mAP50-95): 100%|██████████| 2/2 [00:00"
     ]
    },
    {
     "name": "stdout",
     "output_type": "stream",
     "text": [
      "                   all         32        352      0.974       0.98      0.987      0.722\n"
     ]
    },
    {
     "name": "stderr",
     "output_type": "stream",
     "text": [
      "\n"
     ]
    },
    {
     "name": "stdout",
     "output_type": "stream",
     "text": [
      "\n",
      "      Epoch    GPU_mem   box_loss   cls_loss   dfl_loss  Instances       Size\n"
     ]
    },
    {
     "name": "stderr",
     "output_type": "stream",
     "text": [
      "     58/100       2.7G     0.6936     0.6376      1.158        236        640: 100%|██████████| 11/11 [00:03<00:00,  \n",
      "                 Class     Images  Instances      Box(P          R      mAP50  mAP50-95): 100%|██████████| 2/2 [00:00"
     ]
    },
    {
     "name": "stdout",
     "output_type": "stream",
     "text": [
      "                   all         32        352      0.976      0.978      0.988      0.712\n"
     ]
    },
    {
     "name": "stderr",
     "output_type": "stream",
     "text": [
      "\n"
     ]
    },
    {
     "name": "stdout",
     "output_type": "stream",
     "text": [
      "\n",
      "      Epoch    GPU_mem   box_loss   cls_loss   dfl_loss  Instances       Size\n"
     ]
    },
    {
     "name": "stderr",
     "output_type": "stream",
     "text": [
      "     59/100       2.7G     0.7118     0.6624      1.115        249        640: 100%|██████████| 11/11 [00:03<00:00,  \n",
      "                 Class     Images  Instances      Box(P          R      mAP50  mAP50-95): 100%|██████████| 2/2 [00:00\n"
     ]
    },
    {
     "name": "stdout",
     "output_type": "stream",
     "text": [
      "                   all         32        352      0.976      0.976      0.985      0.721\n",
      "\n",
      "      Epoch    GPU_mem   box_loss   cls_loss   dfl_loss  Instances       Size\n"
     ]
    },
    {
     "name": "stderr",
     "output_type": "stream",
     "text": [
      "     60/100      2.75G     0.6939     0.6381      1.139        267        640: 100%|██████████| 11/11 [00:03<00:00,  \n",
      "                 Class     Images  Instances      Box(P          R      mAP50  mAP50-95): 100%|██████████| 2/2 [00:00"
     ]
    },
    {
     "name": "stdout",
     "output_type": "stream",
     "text": [
      "                   all         32        352      0.968       0.98      0.986      0.715\n"
     ]
    },
    {
     "name": "stderr",
     "output_type": "stream",
     "text": [
      "\n"
     ]
    },
    {
     "name": "stdout",
     "output_type": "stream",
     "text": [
      "\n",
      "      Epoch    GPU_mem   box_loss   cls_loss   dfl_loss  Instances       Size\n"
     ]
    },
    {
     "name": "stderr",
     "output_type": "stream",
     "text": [
      "     61/100       2.7G     0.7128     0.6557      1.132        209        640: 100%|██████████| 11/11 [00:03<00:00,  \n",
      "                 Class     Images  Instances      Box(P          R      mAP50  mAP50-95): 100%|██████████| 2/2 [00:00\n"
     ]
    },
    {
     "name": "stdout",
     "output_type": "stream",
     "text": [
      "                   all         32        352      0.974      0.981      0.989      0.719\n",
      "\n",
      "      Epoch    GPU_mem   box_loss   cls_loss   dfl_loss  Instances       Size\n"
     ]
    },
    {
     "name": "stderr",
     "output_type": "stream",
     "text": [
      "     62/100      2.74G     0.7096     0.6432      1.126        203        640: 100%|██████████| 11/11 [00:03<00:00,  \n",
      "                 Class     Images  Instances      Box(P          R      mAP50  mAP50-95): 100%|██████████| 2/2 [00:00"
     ]
    },
    {
     "name": "stdout",
     "output_type": "stream",
     "text": [
      "                   all         32        352       0.98      0.977      0.989      0.717\n"
     ]
    },
    {
     "name": "stderr",
     "output_type": "stream",
     "text": [
      "\n"
     ]
    },
    {
     "name": "stdout",
     "output_type": "stream",
     "text": [
      "\n",
      "      Epoch    GPU_mem   box_loss   cls_loss   dfl_loss  Instances       Size\n"
     ]
    },
    {
     "name": "stderr",
     "output_type": "stream",
     "text": [
      "     63/100       2.7G     0.7214     0.6609      1.097        238        640: 100%|██████████| 11/11 [00:03<00:00,  \n",
      "                 Class     Images  Instances      Box(P          R      mAP50  mAP50-95): 100%|██████████| 2/2 [00:00\n"
     ]
    },
    {
     "name": "stdout",
     "output_type": "stream",
     "text": [
      "                   all         32        352       0.98      0.981      0.986       0.72\n",
      "\n",
      "      Epoch    GPU_mem   box_loss   cls_loss   dfl_loss  Instances       Size\n"
     ]
    },
    {
     "name": "stderr",
     "output_type": "stream",
     "text": [
      "     64/100      2.75G     0.6605      0.612      1.151        248        640: 100%|██████████| 11/11 [00:03<00:00,  \n",
      "                 Class     Images  Instances      Box(P          R      mAP50  mAP50-95): 100%|██████████| 2/2 [00:00\n"
     ]
    },
    {
     "name": "stdout",
     "output_type": "stream",
     "text": [
      "                   all         32        352      0.979      0.976      0.988      0.716\n",
      "\n",
      "      Epoch    GPU_mem   box_loss   cls_loss   dfl_loss  Instances       Size\n"
     ]
    },
    {
     "name": "stderr",
     "output_type": "stream",
     "text": [
      "     65/100      2.71G     0.6906     0.6303      1.131        204        640: 100%|██████████| 11/11 [00:03<00:00,  \n",
      "                 Class     Images  Instances      Box(P          R      mAP50  mAP50-95): 100%|██████████| 2/2 [00:00"
     ]
    },
    {
     "name": "stdout",
     "output_type": "stream",
     "text": [
      "                   all         32        352      0.977       0.98      0.988      0.722\n"
     ]
    },
    {
     "name": "stderr",
     "output_type": "stream",
     "text": [
      "\n"
     ]
    },
    {
     "name": "stdout",
     "output_type": "stream",
     "text": [
      "\n",
      "      Epoch    GPU_mem   box_loss   cls_loss   dfl_loss  Instances       Size\n"
     ]
    },
    {
     "name": "stderr",
     "output_type": "stream",
     "text": [
      "     66/100      2.72G     0.7183     0.6464      1.137        158        640: 100%|██████████| 11/11 [00:03<00:00,  \n",
      "                 Class     Images  Instances      Box(P          R      mAP50  mAP50-95): 100%|██████████| 2/2 [00:00"
     ]
    },
    {
     "name": "stdout",
     "output_type": "stream",
     "text": [
      "                   all         32        352      0.973      0.984      0.988      0.718\n"
     ]
    },
    {
     "name": "stderr",
     "output_type": "stream",
     "text": [
      "\n"
     ]
    },
    {
     "name": "stdout",
     "output_type": "stream",
     "text": [
      "\n",
      "      Epoch    GPU_mem   box_loss   cls_loss   dfl_loss  Instances       Size\n"
     ]
    },
    {
     "name": "stderr",
     "output_type": "stream",
     "text": [
      "     67/100      2.76G     0.6956     0.6285      1.135        232        640: 100%|██████████| 11/11 [00:03<00:00,  \n",
      "                 Class     Images  Instances      Box(P          R      mAP50  mAP50-95): 100%|██████████| 2/2 [00:00\n"
     ]
    },
    {
     "name": "stdout",
     "output_type": "stream",
     "text": [
      "                   all         32        352      0.975      0.985      0.988      0.716\n",
      "\n",
      "      Epoch    GPU_mem   box_loss   cls_loss   dfl_loss  Instances       Size\n"
     ]
    },
    {
     "name": "stderr",
     "output_type": "stream",
     "text": [
      "     68/100      2.73G     0.7111     0.6352      1.094        235        640: 100%|██████████| 11/11 [00:03<00:00,  \n",
      "                 Class     Images  Instances      Box(P          R      mAP50  mAP50-95): 100%|██████████| 2/2 [00:00"
     ]
    },
    {
     "name": "stdout",
     "output_type": "stream",
     "text": [
      "                   all         32        352      0.973      0.988      0.988      0.721\n"
     ]
    },
    {
     "name": "stderr",
     "output_type": "stream",
     "text": [
      "\n"
     ]
    },
    {
     "name": "stdout",
     "output_type": "stream",
     "text": [
      "\n",
      "      Epoch    GPU_mem   box_loss   cls_loss   dfl_loss  Instances       Size\n"
     ]
    },
    {
     "name": "stderr",
     "output_type": "stream",
     "text": [
      "     69/100       2.7G     0.7117     0.6412       1.12        218        640: 100%|██████████| 11/11 [00:03<00:00,  \n",
      "                 Class     Images  Instances      Box(P          R      mAP50  mAP50-95): 100%|██████████| 2/2 [00:00"
     ]
    },
    {
     "name": "stdout",
     "output_type": "stream",
     "text": [
      "                   all         32        352      0.975      0.987      0.988      0.721\n"
     ]
    },
    {
     "name": "stderr",
     "output_type": "stream",
     "text": [
      "\n"
     ]
    },
    {
     "name": "stdout",
     "output_type": "stream",
     "text": [
      "\n",
      "      Epoch    GPU_mem   box_loss   cls_loss   dfl_loss  Instances       Size\n"
     ]
    },
    {
     "name": "stderr",
     "output_type": "stream",
     "text": [
      "     70/100       2.7G     0.6849     0.6195      1.148        245        640: 100%|██████████| 11/11 [00:03<00:00,  \n",
      "                 Class     Images  Instances      Box(P          R      mAP50  mAP50-95): 100%|██████████| 2/2 [00:00"
     ]
    },
    {
     "name": "stdout",
     "output_type": "stream",
     "text": [
      "                   all         32        352      0.977      0.986      0.989      0.712\n"
     ]
    },
    {
     "name": "stderr",
     "output_type": "stream",
     "text": [
      "\n"
     ]
    },
    {
     "name": "stdout",
     "output_type": "stream",
     "text": [
      "\n",
      "      Epoch    GPU_mem   box_loss   cls_loss   dfl_loss  Instances       Size\n"
     ]
    },
    {
     "name": "stderr",
     "output_type": "stream",
     "text": [
      "     71/100      2.74G     0.7039     0.6303      1.097        209        640: 100%|██████████| 11/11 [00:03<00:00,  \n",
      "                 Class     Images  Instances      Box(P          R      mAP50  mAP50-95): 100%|██████████| 2/2 [00:00"
     ]
    },
    {
     "name": "stdout",
     "output_type": "stream",
     "text": [
      "                   all         32        352      0.978       0.98      0.989      0.716\n"
     ]
    },
    {
     "name": "stderr",
     "output_type": "stream",
     "text": [
      "\n"
     ]
    },
    {
     "name": "stdout",
     "output_type": "stream",
     "text": [
      "\n",
      "      Epoch    GPU_mem   box_loss   cls_loss   dfl_loss  Instances       Size\n"
     ]
    },
    {
     "name": "stderr",
     "output_type": "stream",
     "text": [
      "     72/100      2.73G     0.6432     0.5993      1.121        317        640: 100%|██████████| 11/11 [00:03<00:00,  \n",
      "                 Class     Images  Instances      Box(P          R      mAP50  mAP50-95): 100%|██████████| 2/2 [00:00"
     ]
    },
    {
     "name": "stdout",
     "output_type": "stream",
     "text": [
      "                   all         32        352      0.982       0.98      0.987      0.711\n"
     ]
    },
    {
     "name": "stderr",
     "output_type": "stream",
     "text": [
      "\n"
     ]
    },
    {
     "name": "stdout",
     "output_type": "stream",
     "text": [
      "\n",
      "      Epoch    GPU_mem   box_loss   cls_loss   dfl_loss  Instances       Size\n"
     ]
    },
    {
     "name": "stderr",
     "output_type": "stream",
     "text": [
      "     73/100       2.7G     0.6818      0.624      1.138        182        640: 100%|██████████| 11/11 [00:03<00:00,  \n",
      "                 Class     Images  Instances      Box(P          R      mAP50  mAP50-95): 100%|██████████| 2/2 [00:00"
     ]
    },
    {
     "name": "stdout",
     "output_type": "stream",
     "text": [
      "                   all         32        352      0.984      0.982      0.987      0.705\n"
     ]
    },
    {
     "name": "stderr",
     "output_type": "stream",
     "text": [
      "\n"
     ]
    },
    {
     "name": "stdout",
     "output_type": "stream",
     "text": [
      "\n",
      "      Epoch    GPU_mem   box_loss   cls_loss   dfl_loss  Instances       Size\n"
     ]
    },
    {
     "name": "stderr",
     "output_type": "stream",
     "text": [
      "     74/100      2.76G     0.6934     0.6334      1.112        259        640: 100%|██████████| 11/11 [00:03<00:00,  \n",
      "                 Class     Images  Instances      Box(P          R      mAP50  mAP50-95): 100%|██████████| 2/2 [00:00\n"
     ]
    },
    {
     "name": "stdout",
     "output_type": "stream",
     "text": [
      "                   all         32        352      0.973       0.98      0.983      0.706\n",
      "\n",
      "      Epoch    GPU_mem   box_loss   cls_loss   dfl_loss  Instances       Size\n"
     ]
    },
    {
     "name": "stderr",
     "output_type": "stream",
     "text": [
      "     75/100      2.73G     0.6985     0.6217      1.139        220        640: 100%|██████████| 11/11 [00:03<00:00,  \n",
      "                 Class     Images  Instances      Box(P          R      mAP50  mAP50-95): 100%|██████████| 2/2 [00:00"
     ]
    },
    {
     "name": "stdout",
     "output_type": "stream",
     "text": [
      "                   all         32        352      0.981      0.978      0.987      0.715\n"
     ]
    },
    {
     "name": "stderr",
     "output_type": "stream",
     "text": [
      "\n"
     ]
    },
    {
     "name": "stdout",
     "output_type": "stream",
     "text": [
      "\n",
      "      Epoch    GPU_mem   box_loss   cls_loss   dfl_loss  Instances       Size\n"
     ]
    },
    {
     "name": "stderr",
     "output_type": "stream",
     "text": [
      "     76/100       2.8G     0.6883     0.6179      1.118        217        640: 100%|██████████| 11/11 [00:03<00:00,  \n",
      "                 Class     Images  Instances      Box(P          R      mAP50  mAP50-95): 100%|██████████| 2/2 [00:00"
     ]
    },
    {
     "name": "stdout",
     "output_type": "stream",
     "text": [
      "                   all         32        352      0.983      0.983      0.987      0.715\n"
     ]
    },
    {
     "name": "stderr",
     "output_type": "stream",
     "text": [
      "\n"
     ]
    },
    {
     "name": "stdout",
     "output_type": "stream",
     "text": [
      "\n",
      "      Epoch    GPU_mem   box_loss   cls_loss   dfl_loss  Instances       Size\n"
     ]
    },
    {
     "name": "stderr",
     "output_type": "stream",
     "text": [
      "     77/100      2.69G      0.684     0.6159      1.114        222        640: 100%|██████████| 11/11 [00:03<00:00,  \n",
      "                 Class     Images  Instances      Box(P          R      mAP50  mAP50-95): 100%|██████████| 2/2 [00:00"
     ]
    },
    {
     "name": "stdout",
     "output_type": "stream",
     "text": [
      "                   all         32        352      0.979      0.985      0.989      0.714\n"
     ]
    },
    {
     "name": "stderr",
     "output_type": "stream",
     "text": [
      "\n"
     ]
    },
    {
     "name": "stdout",
     "output_type": "stream",
     "text": [
      "\n",
      "      Epoch    GPU_mem   box_loss   cls_loss   dfl_loss  Instances       Size\n"
     ]
    },
    {
     "name": "stderr",
     "output_type": "stream",
     "text": [
      "     78/100       2.7G     0.6578     0.5954      1.141        161        640: 100%|██████████| 11/11 [00:03<00:00,  \n",
      "                 Class     Images  Instances      Box(P          R      mAP50  mAP50-95): 100%|██████████| 2/2 [00:00"
     ]
    },
    {
     "name": "stdout",
     "output_type": "stream",
     "text": [
      "                   all         32        352      0.984      0.981      0.989      0.714\n"
     ]
    },
    {
     "name": "stderr",
     "output_type": "stream",
     "text": [
      "\n"
     ]
    },
    {
     "name": "stdout",
     "output_type": "stream",
     "text": [
      "\n",
      "      Epoch    GPU_mem   box_loss   cls_loss   dfl_loss  Instances       Size\n"
     ]
    },
    {
     "name": "stderr",
     "output_type": "stream",
     "text": [
      "     79/100      2.69G      0.646     0.5942      1.144        181        640: 100%|██████████| 11/11 [00:03<00:00,  \n",
      "                 Class     Images  Instances      Box(P          R      mAP50  mAP50-95): 100%|██████████| 2/2 [00:00"
     ]
    },
    {
     "name": "stdout",
     "output_type": "stream",
     "text": [
      "                   all         32        352      0.977      0.987      0.989      0.709\n"
     ]
    },
    {
     "name": "stderr",
     "output_type": "stream",
     "text": [
      "\n"
     ]
    },
    {
     "name": "stdout",
     "output_type": "stream",
     "text": [
      "\n",
      "      Epoch    GPU_mem   box_loss   cls_loss   dfl_loss  Instances       Size\n"
     ]
    },
    {
     "name": "stderr",
     "output_type": "stream",
     "text": [
      "     80/100      2.73G     0.6743     0.6019      1.132        240        640: 100%|██████████| 11/11 [00:03<00:00,  \n",
      "                 Class     Images  Instances      Box(P          R      mAP50  mAP50-95): 100%|██████████| 2/2 [00:00"
     ]
    },
    {
     "name": "stdout",
     "output_type": "stream",
     "text": [
      "                   all         32        352      0.974      0.988      0.986      0.715\n"
     ]
    },
    {
     "name": "stderr",
     "output_type": "stream",
     "text": [
      "\n"
     ]
    },
    {
     "name": "stdout",
     "output_type": "stream",
     "text": [
      "\n",
      "      Epoch    GPU_mem   box_loss   cls_loss   dfl_loss  Instances       Size\n"
     ]
    },
    {
     "name": "stderr",
     "output_type": "stream",
     "text": [
      "     81/100      2.82G     0.6769     0.5868      1.153        248        640: 100%|██████████| 11/11 [00:03<00:00,  \n",
      "                 Class     Images  Instances      Box(P          R      mAP50  mAP50-95): 100%|██████████| 2/2 [00:00"
     ]
    },
    {
     "name": "stdout",
     "output_type": "stream",
     "text": [
      "                   all         32        352       0.98      0.985      0.989      0.717\n"
     ]
    },
    {
     "name": "stderr",
     "output_type": "stream",
     "text": [
      "\n"
     ]
    },
    {
     "name": "stdout",
     "output_type": "stream",
     "text": [
      "\n",
      "      Epoch    GPU_mem   box_loss   cls_loss   dfl_loss  Instances       Size\n"
     ]
    },
    {
     "name": "stderr",
     "output_type": "stream",
     "text": [
      "     82/100       2.7G     0.6561     0.5982      1.124        181        640: 100%|██████████| 11/11 [00:03<00:00,  \n",
      "                 Class     Images  Instances      Box(P          R      mAP50  mAP50-95): 100%|██████████| 2/2 [00:00\n"
     ]
    },
    {
     "name": "stdout",
     "output_type": "stream",
     "text": [
      "                   all         32        352      0.979      0.988      0.989      0.719\n",
      "\n",
      "      Epoch    GPU_mem   box_loss   cls_loss   dfl_loss  Instances       Size\n"
     ]
    },
    {
     "name": "stderr",
     "output_type": "stream",
     "text": [
      "     83/100      2.72G      0.641     0.5858      1.117        254        640: 100%|██████████| 11/11 [00:03<00:00,  \n",
      "                 Class     Images  Instances      Box(P          R      mAP50  mAP50-95): 100%|██████████| 2/2 [00:00"
     ]
    },
    {
     "name": "stdout",
     "output_type": "stream",
     "text": [
      "                   all         32        352       0.98      0.988      0.989      0.708\n"
     ]
    },
    {
     "name": "stderr",
     "output_type": "stream",
     "text": [
      "\n"
     ]
    },
    {
     "name": "stdout",
     "output_type": "stream",
     "text": [
      "\n",
      "      Epoch    GPU_mem   box_loss   cls_loss   dfl_loss  Instances       Size\n"
     ]
    },
    {
     "name": "stderr",
     "output_type": "stream",
     "text": [
      "     84/100      2.81G     0.6526     0.5818      1.092        216        640: 100%|██████████| 11/11 [00:03<00:00,  \n",
      "                 Class     Images  Instances      Box(P          R      mAP50  mAP50-95): 100%|██████████| 2/2 [00:00"
     ]
    },
    {
     "name": "stdout",
     "output_type": "stream",
     "text": [
      "                   all         32        352      0.979      0.986      0.989      0.713\n"
     ]
    },
    {
     "name": "stderr",
     "output_type": "stream",
     "text": [
      "\n"
     ]
    },
    {
     "name": "stdout",
     "output_type": "stream",
     "text": [
      "\n",
      "      Epoch    GPU_mem   box_loss   cls_loss   dfl_loss  Instances       Size\n"
     ]
    },
    {
     "name": "stderr",
     "output_type": "stream",
     "text": [
      "     85/100      2.74G      0.678     0.6042      1.103        255        640: 100%|██████████| 11/11 [00:03<00:00,  \n",
      "                 Class     Images  Instances      Box(P          R      mAP50  mAP50-95): 100%|██████████| 2/2 [00:00"
     ]
    },
    {
     "name": "stdout",
     "output_type": "stream",
     "text": [
      "                   all         32        352      0.978      0.987      0.989      0.717\n"
     ]
    },
    {
     "name": "stderr",
     "output_type": "stream",
     "text": [
      "\n"
     ]
    },
    {
     "name": "stdout",
     "output_type": "stream",
     "text": [
      "\n",
      "      Epoch    GPU_mem   box_loss   cls_loss   dfl_loss  Instances       Size\n"
     ]
    },
    {
     "name": "stderr",
     "output_type": "stream",
     "text": [
      "     86/100       2.7G     0.6664     0.5883      1.137        210        640: 100%|██████████| 11/11 [00:03<00:00,  \n",
      "                 Class     Images  Instances      Box(P          R      mAP50  mAP50-95): 100%|██████████| 2/2 [00:00\n"
     ]
    },
    {
     "name": "stdout",
     "output_type": "stream",
     "text": [
      "                   all         32        352      0.979      0.987      0.989      0.715\n",
      "\n",
      "      Epoch    GPU_mem   box_loss   cls_loss   dfl_loss  Instances       Size\n"
     ]
    },
    {
     "name": "stderr",
     "output_type": "stream",
     "text": [
      "     87/100      2.76G     0.6691     0.5936      1.125        212        640: 100%|██████████| 11/11 [00:03<00:00,  \n",
      "                 Class     Images  Instances      Box(P          R      mAP50  mAP50-95): 100%|██████████| 2/2 [00:00"
     ]
    },
    {
     "name": "stdout",
     "output_type": "stream",
     "text": [
      "                   all         32        352      0.981      0.986      0.987      0.711\n"
     ]
    },
    {
     "name": "stderr",
     "output_type": "stream",
     "text": [
      "\n"
     ]
    },
    {
     "name": "stdout",
     "output_type": "stream",
     "text": [
      "\n",
      "      Epoch    GPU_mem   box_loss   cls_loss   dfl_loss  Instances       Size\n"
     ]
    },
    {
     "name": "stderr",
     "output_type": "stream",
     "text": [
      "     88/100      2.73G     0.6425     0.5839      1.113        242        640: 100%|██████████| 11/11 [00:03<00:00,  \n",
      "                 Class     Images  Instances      Box(P          R      mAP50  mAP50-95): 100%|██████████| 2/2 [00:00\n"
     ]
    },
    {
     "name": "stdout",
     "output_type": "stream",
     "text": [
      "                   all         32        352      0.984      0.984      0.989      0.718\n",
      "\n",
      "      Epoch    GPU_mem   box_loss   cls_loss   dfl_loss  Instances       Size\n"
     ]
    },
    {
     "name": "stderr",
     "output_type": "stream",
     "text": [
      "     89/100      2.78G     0.6764     0.6172      1.102        187        640: 100%|██████████| 11/11 [00:03<00:00,  \n",
      "                 Class     Images  Instances      Box(P          R      mAP50  mAP50-95): 100%|██████████| 2/2 [00:00\n"
     ]
    },
    {
     "name": "stdout",
     "output_type": "stream",
     "text": [
      "                   all         32        352      0.984      0.984      0.989      0.718\n",
      "\n",
      "      Epoch    GPU_mem   box_loss   cls_loss   dfl_loss  Instances       Size\n"
     ]
    },
    {
     "name": "stderr",
     "output_type": "stream",
     "text": [
      "     90/100      2.69G       0.66     0.5924      1.107        184        640: 100%|██████████| 11/11 [00:03<00:00,  \n",
      "                 Class     Images  Instances      Box(P          R      mAP50  mAP50-95): 100%|██████████| 2/2 [00:00\n"
     ]
    },
    {
     "name": "stdout",
     "output_type": "stream",
     "text": [
      "                   all         32        352       0.98      0.986      0.989      0.713\n",
      "Closing dataloader mosaic\n",
      "\n",
      "      Epoch    GPU_mem   box_loss   cls_loss   dfl_loss  Instances       Size\n"
     ]
    },
    {
     "name": "stderr",
     "output_type": "stream",
     "text": [
      "     91/100      3.05G     0.6259     0.5953      1.141        130        640: 100%|██████████| 11/11 [00:06<00:00,  \n",
      "                 Class     Images  Instances      Box(P          R      mAP50  mAP50-95): 100%|██████████| 2/2 [00:00"
     ]
    },
    {
     "name": "stdout",
     "output_type": "stream",
     "text": [
      "                   all         32        352      0.981      0.987      0.989      0.714\n"
     ]
    },
    {
     "name": "stderr",
     "output_type": "stream",
     "text": [
      "\n"
     ]
    },
    {
     "name": "stdout",
     "output_type": "stream",
     "text": [
      "\n",
      "      Epoch    GPU_mem   box_loss   cls_loss   dfl_loss  Instances       Size\n"
     ]
    },
    {
     "name": "stderr",
     "output_type": "stream",
     "text": [
      "     92/100      2.77G     0.6624     0.6267      1.127        142        640: 100%|██████████| 11/11 [00:03<00:00,  \n",
      "                 Class     Images  Instances      Box(P          R      mAP50  mAP50-95): 100%|██████████| 2/2 [00:00"
     ]
    },
    {
     "name": "stdout",
     "output_type": "stream",
     "text": [
      "                   all         32        352      0.984      0.987      0.989      0.714\n"
     ]
    },
    {
     "name": "stderr",
     "output_type": "stream",
     "text": [
      "\n"
     ]
    },
    {
     "name": "stdout",
     "output_type": "stream",
     "text": [
      "\n",
      "      Epoch    GPU_mem   box_loss   cls_loss   dfl_loss  Instances       Size\n"
     ]
    },
    {
     "name": "stderr",
     "output_type": "stream",
     "text": [
      "     93/100      2.75G      0.619     0.5838      1.146        142        640: 100%|██████████| 11/11 [00:03<00:00,  \n",
      "                 Class     Images  Instances      Box(P          R      mAP50  mAP50-95): 100%|██████████| 2/2 [00:00"
     ]
    },
    {
     "name": "stdout",
     "output_type": "stream",
     "text": [
      "                   all         32        352      0.981      0.984      0.985      0.714\n"
     ]
    },
    {
     "name": "stderr",
     "output_type": "stream",
     "text": [
      "\n"
     ]
    },
    {
     "name": "stdout",
     "output_type": "stream",
     "text": [
      "\n",
      "      Epoch    GPU_mem   box_loss   cls_loss   dfl_loss  Instances       Size\n"
     ]
    },
    {
     "name": "stderr",
     "output_type": "stream",
     "text": [
      "     94/100      2.76G     0.6295     0.5821      1.138        128        640: 100%|██████████| 11/11 [00:03<00:00,  \n",
      "                 Class     Images  Instances      Box(P          R      mAP50  mAP50-95): 100%|██████████| 2/2 [00:00"
     ]
    },
    {
     "name": "stdout",
     "output_type": "stream",
     "text": [
      "                   all         32        352      0.981      0.984      0.985      0.718\n"
     ]
    },
    {
     "name": "stderr",
     "output_type": "stream",
     "text": [
      "\n"
     ]
    },
    {
     "name": "stdout",
     "output_type": "stream",
     "text": [
      "\n",
      "      Epoch    GPU_mem   box_loss   cls_loss   dfl_loss  Instances       Size\n"
     ]
    },
    {
     "name": "stderr",
     "output_type": "stream",
     "text": [
      "     95/100      2.75G     0.6222     0.5823      1.141        136        640: 100%|██████████| 11/11 [00:03<00:00,  \n",
      "                 Class     Images  Instances      Box(P          R      mAP50  mAP50-95): 100%|██████████| 2/2 [00:00"
     ]
    },
    {
     "name": "stdout",
     "output_type": "stream",
     "text": [
      "                   all         32        352      0.983      0.982      0.985      0.719\n"
     ]
    },
    {
     "name": "stderr",
     "output_type": "stream",
     "text": [
      "\n"
     ]
    },
    {
     "name": "stdout",
     "output_type": "stream",
     "text": [
      "\n",
      "      Epoch    GPU_mem   box_loss   cls_loss   dfl_loss  Instances       Size\n"
     ]
    },
    {
     "name": "stderr",
     "output_type": "stream",
     "text": [
      "     96/100      2.76G     0.6213     0.5723      1.124        136        640: 100%|██████████| 11/11 [00:03<00:00,  \n",
      "                 Class     Images  Instances      Box(P          R      mAP50  mAP50-95): 100%|██████████| 2/2 [00:00"
     ]
    },
    {
     "name": "stdout",
     "output_type": "stream",
     "text": [
      "                   all         32        352      0.984       0.98      0.985      0.715\n"
     ]
    },
    {
     "name": "stderr",
     "output_type": "stream",
     "text": [
      "\n"
     ]
    },
    {
     "name": "stdout",
     "output_type": "stream",
     "text": [
      "\n",
      "      Epoch    GPU_mem   box_loss   cls_loss   dfl_loss  Instances       Size\n"
     ]
    },
    {
     "name": "stderr",
     "output_type": "stream",
     "text": [
      "     97/100      2.75G     0.6165     0.5801      1.119        129        640: 100%|██████████| 11/11 [00:03<00:00,  \n",
      "                 Class     Images  Instances      Box(P          R      mAP50  mAP50-95): 100%|██████████| 2/2 [00:00"
     ]
    },
    {
     "name": "stdout",
     "output_type": "stream",
     "text": [
      "                   all         32        352      0.981      0.981      0.984      0.713\n"
     ]
    },
    {
     "name": "stderr",
     "output_type": "stream",
     "text": [
      "\n"
     ]
    },
    {
     "name": "stdout",
     "output_type": "stream",
     "text": [
      "\n",
      "      Epoch    GPU_mem   box_loss   cls_loss   dfl_loss  Instances       Size\n"
     ]
    },
    {
     "name": "stderr",
     "output_type": "stream",
     "text": [
      "     98/100      2.76G     0.6226     0.5663      1.169        124        640: 100%|██████████| 11/11 [00:03<00:00,  \n",
      "                 Class     Images  Instances      Box(P          R      mAP50  mAP50-95): 100%|██████████| 2/2 [00:00"
     ]
    },
    {
     "name": "stdout",
     "output_type": "stream",
     "text": [
      "                   all         32        352      0.978      0.985      0.984      0.718\n"
     ]
    },
    {
     "name": "stderr",
     "output_type": "stream",
     "text": [
      "\n"
     ]
    },
    {
     "name": "stdout",
     "output_type": "stream",
     "text": [
      "\n",
      "      Epoch    GPU_mem   box_loss   cls_loss   dfl_loss  Instances       Size\n"
     ]
    },
    {
     "name": "stderr",
     "output_type": "stream",
     "text": [
      "     99/100      2.75G     0.6057     0.5606      1.131        129        640: 100%|██████████| 11/11 [00:03<00:00,  \n",
      "                 Class     Images  Instances      Box(P          R      mAP50  mAP50-95): 100%|██████████| 2/2 [00:00"
     ]
    },
    {
     "name": "stdout",
     "output_type": "stream",
     "text": [
      "                   all         32        352       0.98      0.983      0.984      0.717\n"
     ]
    },
    {
     "name": "stderr",
     "output_type": "stream",
     "text": [
      "\n"
     ]
    },
    {
     "name": "stdout",
     "output_type": "stream",
     "text": [
      "\n",
      "      Epoch    GPU_mem   box_loss   cls_loss   dfl_loss  Instances       Size\n"
     ]
    },
    {
     "name": "stderr",
     "output_type": "stream",
     "text": [
      "    100/100      2.77G     0.6201     0.5719       1.16        142        640: 100%|██████████| 11/11 [00:03<00:00,  \n",
      "                 Class     Images  Instances      Box(P          R      mAP50  mAP50-95): 100%|██████████| 2/2 [00:00"
     ]
    },
    {
     "name": "stdout",
     "output_type": "stream",
     "text": [
      "                   all         32        352      0.982      0.983      0.984      0.718\n"
     ]
    },
    {
     "name": "stderr",
     "output_type": "stream",
     "text": [
      "\n"
     ]
    },
    {
     "name": "stdout",
     "output_type": "stream",
     "text": [
      "\n",
      "100 epochs completed in 0.139 hours.\n",
      "Optimizer stripped from /home/ncbernar/.pyenv/runs/obb/train41/weights/last.pt, 5.9MB\n",
      "Optimizer stripped from /home/ncbernar/.pyenv/runs/obb/train41/weights/best.pt, 5.9MB\n",
      "\n",
      "Validating /home/ncbernar/.pyenv/runs/obb/train41/weights/best.pt...\n",
      "WARNING ⚠️ validating an untrained model YAML will result in 0 mAP.\n",
      "Ultralytics 8.3.38 🚀 Python-3.12.7 torch-2.5.1+cu124 CUDA:0 (NVIDIA GeForce GTX 1080, 8099MiB)\n",
      "YOLO11n-obb summary (fused): 257 layers, 2,656,258 parameters, 0 gradients, 6.6 GFLOPs\n"
     ]
    },
    {
     "name": "stderr",
     "output_type": "stream",
     "text": [
      "                 Class     Images  Instances      Box(P          R      mAP50  mAP50-95): 100%|██████████| 2/2 [00:00\n"
     ]
    },
    {
     "name": "stdout",
     "output_type": "stream",
     "text": [
      "                   all         32        352      0.984      0.972      0.988      0.722\n",
      "                   4oz         32         32      0.969      0.972      0.993      0.755\n",
      "                   6oz         32         32          1      0.993      0.995      0.764\n",
      "                   8oz         32         32      0.988          1      0.995      0.793\n",
      "                  10oz         32         32      0.981          1      0.995      0.847\n",
      "                  12oz         32         32      0.997          1      0.995      0.841\n",
      "                strong         32         32      0.995          1      0.995      0.675\n",
      "                  iced         32         32          1      0.982      0.995      0.807\n",
      "                   hot         32         33      0.968      0.913       0.96      0.673\n",
      "             add_water         31         31      0.967      0.932       0.96      0.496\n",
      "               descale         32         32      0.958      0.906      0.987      0.544\n",
      "                 power         32         32          1       0.99      0.995       0.75\n",
      "Speed: 1.1ms preprocess, 3.8ms inference, 0.0ms loss, 3.4ms postprocess per image\n",
      "Results saved to \u001b[1m/home/ncbernar/.pyenv/runs/obb/train41\u001b[0m\n"
     ]
    },
    {
     "data": {
      "text/plain": [
       "ultralytics.utils.metrics.OBBMetrics object with attributes:\n",
       "\n",
       "ap_class_index: array([ 0,  1,  2,  3,  4,  5,  6,  7,  8,  9, 12])\n",
       "box: ultralytics.utils.metrics.Metric object\n",
       "confusion_matrix: <ultralytics.utils.metrics.ConfusionMatrix object at 0x7d37fc07ee40>\n",
       "curves: []\n",
       "curves_results: []\n",
       "fitness: np.float64(0.7487566089704211)\n",
       "keys: ['metrics/precision(B)', 'metrics/recall(B)', 'metrics/mAP50(B)', 'metrics/mAP50-95(B)']\n",
       "maps: array([    0.75461,     0.76401,     0.79311,     0.84718,     0.84114,      0.6748,     0.80679,     0.67309,      0.4961,     0.54366,     0.72219,     0.72219,      0.7496])\n",
       "names: {0: '4oz', 1: '6oz', 2: '8oz', 3: '10oz', 4: '12oz', 5: 'strong', 6: 'iced', 7: 'hot', 8: 'add_water', 9: 'descale', 10: 'handle', 11: 'water bin', 12: 'power'}\n",
       "plot: True\n",
       "results_dict: {'metrics/precision(B)': np.float64(0.9838083715070354), 'metrics/recall(B)': np.float64(0.9715988302245727), 'metrics/mAP50(B)': np.float64(0.9878397186216182), 'metrics/mAP50-95(B)': np.float64(0.722191819009177), 'fitness': np.float64(0.7487566089704211)}\n",
       "save_dir: PosixPath('/home/ncbernar/.pyenv/runs/obb/train41')\n",
       "speed: {'preprocess': 1.0609626770019531, 'inference': 3.7915408611297607, 'loss': 0.000737607479095459, 'postprocess': 3.3829137682914734}"
      ]
     },
     "execution_count": 4,
     "metadata": {},
     "output_type": "execute_result"
    }
   ],
   "source": [
    "model.train(data=\"./test/data.yaml\", epochs=100, imgsz=640)"
   ]
  },
  {
   "cell_type": "code",
   "execution_count": 2,
   "id": "3f9734cd-ce8c-4672-bfe5-c3d64baa5ff1",
   "metadata": {},
   "outputs": [],
   "source": [
    "model = YOLO(\"/home/ncbernar/.pyenv/runs/obb/train41/weights/best.pt\")"
   ]
  },
  {
   "cell_type": "code",
   "execution_count": 3,
   "id": "0e8cb64c-6857-4207-8b81-c5af1b980a6d",
   "metadata": {},
   "outputs": [
    {
     "name": "stdout",
     "output_type": "stream",
     "text": [
      "\n",
      "image 1/1 /home/ncbernar/Code/object_detection_sandbox/util/images/k_machine.png: 640x512 37.9ms\n",
      "Speed: 4.2ms preprocess, 37.9ms inference, 160.0ms postprocess per image at shape (1, 3, 640, 512)\n"
     ]
    }
   ],
   "source": [
    "results = model(\"./images/k_machine.png\")"
   ]
  },
  {
   "cell_type": "code",
   "execution_count": null,
   "id": "d150cc40-6cd3-4995-820d-58cef8b24c8b",
   "metadata": {},
   "outputs": [],
   "source": [
    "for r in results:\n",
    "    im_array = r.plot()  # plot a BGR numpy array of predictions\n",
    "    im = cv2.cvtColor(im_array, cv2.COLOR_BGR2RGB)  # convert to RGB for display\n",
    "    cv2.imshow(\"Detection Results\", im)\n",
    "    cv2.waitKey(0)  # wait for a key press to close the window\n",
    "\n",
    "cv2.destroyAllWindows()"
   ]
  },
  {
   "cell_type": "code",
   "execution_count": 3,
   "id": "df8e85ed-42dd-4cb1-ab5d-7ba0721466c1",
   "metadata": {},
   "outputs": [],
   "source": [
    "results = model('./IMG_7474.mov', stream=True)"
   ]
  },
  {
   "cell_type": "code",
   "execution_count": 4,
   "id": "c2dbfbba-b02a-4f67-ab6a-c32f92416cee",
   "metadata": {},
   "outputs": [
    {
     "name": "stdout",
     "output_type": "stream",
     "text": [
      "\n",
      "video 1/1 (frame 1/337) /home/ncbernar/Code/object_detection_sandbox/util/IMG_7474.mov: 640x384 62.0ms\n",
      "video 1/1 (frame 2/337) /home/ncbernar/Code/object_detection_sandbox/util/IMG_7474.mov: 640x384 9.5ms\n",
      "video 1/1 (frame 3/337) /home/ncbernar/Code/object_detection_sandbox/util/IMG_7474.mov: 640x384 9.8ms\n",
      "video 1/1 (frame 4/337) /home/ncbernar/Code/object_detection_sandbox/util/IMG_7474.mov: 640x384 10.1ms\n",
      "video 1/1 (frame 5/337) /home/ncbernar/Code/object_detection_sandbox/util/IMG_7474.mov: 640x384 14.9ms\n"
     ]
    },
    {
     "name": "stderr",
     "output_type": "stream",
     "text": [
      "[35938:35938:0122/203941.825797:ERROR:process_singleton_posix.cc(340)] Failed to create /home/ncbernar/.config/BraveSoftware/Brave-Browser/SingletonLock: File exists (17)\n"
     ]
    },
    {
     "name": "stdout",
     "output_type": "stream",
     "text": [
      "video 1/1 (frame 6/337) /home/ncbernar/Code/object_detection_sandbox/util/IMG_7474.mov: 640x384 13.0ms\n",
      "Opening in existing browser session.\n",
      "Opening in existing browser session.\n",
      "Opening in existing browser session.\n",
      "video 1/1 (frame 7/337) /home/ncbernar/Code/object_detection_sandbox/util/IMG_7474.mov: 640x384 12.4ms\n",
      "Opening in existing browser session.\n",
      "video 1/1 (frame 8/337) /home/ncbernar/Code/object_detection_sandbox/util/IMG_7474.mov: 640x384 17.8ms\n",
      "video 1/1 (frame 9/337) /home/ncbernar/Code/object_detection_sandbox/util/IMG_7474.mov: 640x384 11.7ms\n",
      "Opening in existing browser session.\n",
      "tracing_subscriber - init success\n",
      "Opening in existing browser session.\n",
      "tracing_subscriber - maybe already initialized\n",
      "tracing_subscriber - maybe already initialized\n",
      "tracing_subscriber - maybe already initialized\n",
      "video 1/1 (frame 10/337) /home/ncbernar/Code/object_detection_sandbox/util/IMG_7474.mov: 640x384 11.7ms\n",
      "Opening in existing browser session.\n",
      "Opening in existing browser session.\n",
      "video 1/1 (frame 11/337) /home/ncbernar/Code/object_detection_sandbox/util/IMG_7474.mov: 640x384 16.0ms\n"
     ]
    },
    {
     "name": "stderr",
     "output_type": "stream",
     "text": [
      "[35955:35955:0122/203942.775765:ERROR:object_proxy.cc(576)] Failed to call method: org.freedesktop.ScreenSaver.GetActive: object_path= /org/freedesktop/ScreenSaver: org.freedesktop.DBus.Error.NotSupported: This method is not part of the idle inhibition specification: https://specifications.freedesktop.org/idle-inhibit-spec/latest/\n"
     ]
    },
    {
     "name": "stdout",
     "output_type": "stream",
     "text": [
      "Opening in existing browser session.\n",
      "video 1/1 (frame 12/337) /home/ncbernar/Code/object_detection_sandbox/util/IMG_7474.mov: 640x384 15.4ms\n",
      "Opening in existing browser session.\n",
      "video 1/1 (frame 13/337) /home/ncbernar/Code/object_detection_sandbox/util/IMG_7474.mov: 640x384 16.8ms\n",
      "Opening in existing browser session.\n",
      "video 1/1 (frame 14/337) /home/ncbernar/Code/object_detection_sandbox/util/IMG_7474.mov: 640x384 17.6ms\n",
      "Opening in existing browser session.\n",
      "video 1/1 (frame 15/337) /home/ncbernar/Code/object_detection_sandbox/util/IMG_7474.mov: 640x384 13.4ms\n",
      "Opening in existing browser session.\n",
      "video 1/1 (frame 16/337) /home/ncbernar/Code/object_detection_sandbox/util/IMG_7474.mov: 640x384 15.3ms\n",
      "Opening in existing browser session.\n",
      "video 1/1 (frame 17/337) /home/ncbernar/Code/object_detection_sandbox/util/IMG_7474.mov: 640x384 14.3ms\n",
      "Opening in existing browser session.\n",
      "video 1/1 (frame 18/337) /home/ncbernar/Code/object_detection_sandbox/util/IMG_7474.mov: 640x384 19.5ms\n",
      "Opening in existing browser session.\n",
      "video 1/1 (frame 19/337) /home/ncbernar/Code/object_detection_sandbox/util/IMG_7474.mov: 640x384 18.8ms\n",
      "Opening in existing browser session.\n",
      "video 1/1 (frame 20/337) /home/ncbernar/Code/object_detection_sandbox/util/IMG_7474.mov: 640x384 13.3ms\n",
      "Opening in existing browser session.\n",
      "video 1/1 (frame 21/337) /home/ncbernar/Code/object_detection_sandbox/util/IMG_7474.mov: 640x384 15.3ms\n",
      "Opening in existing browser session.\n",
      "video 1/1 (frame 22/337) /home/ncbernar/Code/object_detection_sandbox/util/IMG_7474.mov: 640x384 11.9ms\n",
      "Opening in existing browser session.\n",
      "video 1/1 (frame 23/337) /home/ncbernar/Code/object_detection_sandbox/util/IMG_7474.mov: 640x384 16.6ms\n",
      "Opening in existing browser session.\n",
      "video 1/1 (frame 24/337) /home/ncbernar/Code/object_detection_sandbox/util/IMG_7474.mov: 640x384 16.5ms\n",
      "Opening in existing browser session.\n",
      "video 1/1 (frame 25/337) /home/ncbernar/Code/object_detection_sandbox/util/IMG_7474.mov: 640x384 15.3ms\n",
      "Opening in existing browser session.\n",
      "video 1/1 (frame 26/337) /home/ncbernar/Code/object_detection_sandbox/util/IMG_7474.mov: 640x384 13.3ms\n",
      "Opening in existing browser session.\n",
      "video 1/1 (frame 27/337) /home/ncbernar/Code/object_detection_sandbox/util/IMG_7474.mov: 640x384 12.7ms\n",
      "Opening in existing browser session.\n",
      "video 1/1 (frame 28/337) /home/ncbernar/Code/object_detection_sandbox/util/IMG_7474.mov: 640x384 15.6ms\n",
      "Opening in existing browser session.\n",
      "video 1/1 (frame 29/337) /home/ncbernar/Code/object_detection_sandbox/util/IMG_7474.mov: 640x384 9.7ms\n",
      "Opening in existing browser session.\n",
      "video 1/1 (frame 30/337) /home/ncbernar/Code/object_detection_sandbox/util/IMG_7474.mov: 640x384 18.5ms\n",
      "Opening in existing browser session.\n",
      "video 1/1 (frame 31/337) /home/ncbernar/Code/object_detection_sandbox/util/IMG_7474.mov: 640x384 11.4ms\n",
      "Opening in existing browser session.\n",
      "video 1/1 (frame 32/337) /home/ncbernar/Code/object_detection_sandbox/util/IMG_7474.mov: 640x384 17.7ms\n",
      "Opening in existing browser session.\n",
      "video 1/1 (frame 33/337) /home/ncbernar/Code/object_detection_sandbox/util/IMG_7474.mov: 640x384 12.8ms\n",
      "Opening in existing browser session.\n",
      "video 1/1 (frame 34/337) /home/ncbernar/Code/object_detection_sandbox/util/IMG_7474.mov: 640x384 9.4ms\n",
      "Opening in existing browser session.\n",
      "video 1/1 (frame 35/337) /home/ncbernar/Code/object_detection_sandbox/util/IMG_7474.mov: 640x384 11.3ms\n",
      "Opening in existing browser session.\n",
      "video 1/1 (frame 36/337) /home/ncbernar/Code/object_detection_sandbox/util/IMG_7474.mov: 640x384 12.8ms\n",
      "Opening in existing browser session.\n",
      "video 1/1 (frame 37/337) /home/ncbernar/Code/object_detection_sandbox/util/IMG_7474.mov: 640x384 11.9ms\n",
      "Opening in existing browser session.\n",
      "video 1/1 (frame 38/337) /home/ncbernar/Code/object_detection_sandbox/util/IMG_7474.mov: 640x384 11.0ms\n",
      "Opening in existing browser session.\n",
      "video 1/1 (frame 39/337) /home/ncbernar/Code/object_detection_sandbox/util/IMG_7474.mov: 640x384 11.1ms\n",
      "Opening in existing browser session.\n",
      "video 1/1 (frame 40/337) /home/ncbernar/Code/object_detection_sandbox/util/IMG_7474.mov: 640x384 10.7ms\n",
      "Opening in existing browser session.\n",
      "video 1/1 (frame 41/337) /home/ncbernar/Code/object_detection_sandbox/util/IMG_7474.mov: 640x384 11.3ms\n",
      "Opening in existing browser session.\n",
      "video 1/1 (frame 42/337) /home/ncbernar/Code/object_detection_sandbox/util/IMG_7474.mov: 640x384 13.4ms\n",
      "Opening in existing browser session.\n",
      "video 1/1 (frame 43/337) /home/ncbernar/Code/object_detection_sandbox/util/IMG_7474.mov: 640x384 11.4ms\n",
      "Opening in existing browser session.\n",
      "video 1/1 (frame 44/337) /home/ncbernar/Code/object_detection_sandbox/util/IMG_7474.mov: 640x384 13.9ms\n",
      "Opening in existing browser session.\n",
      "video 1/1 (frame 45/337) /home/ncbernar/Code/object_detection_sandbox/util/IMG_7474.mov: 640x384 15.1ms\n",
      "Opening in existing browser session.\n",
      "video 1/1 (frame 46/337) /home/ncbernar/Code/object_detection_sandbox/util/IMG_7474.mov: 640x384 13.8ms\n",
      "Opening in existing browser session.\n",
      "video 1/1 (frame 47/337) /home/ncbernar/Code/object_detection_sandbox/util/IMG_7474.mov: 640x384 17.5ms\n",
      "Opening in existing browser session.\n",
      "video 1/1 (frame 48/337) /home/ncbernar/Code/object_detection_sandbox/util/IMG_7474.mov: 640x384 14.4ms\n",
      "Opening in existing browser session.\n",
      "video 1/1 (frame 49/337) /home/ncbernar/Code/object_detection_sandbox/util/IMG_7474.mov: 640x384 17.9ms\n",
      "Opening in existing browser session.\n",
      "video 1/1 (frame 50/337) /home/ncbernar/Code/object_detection_sandbox/util/IMG_7474.mov: 640x384 13.6ms\n",
      "Opening in existing browser session.\n",
      "video 1/1 (frame 51/337) /home/ncbernar/Code/object_detection_sandbox/util/IMG_7474.mov: 640x384 13.9ms\n",
      "Opening in existing browser session.\n",
      "video 1/1 (frame 52/337) /home/ncbernar/Code/object_detection_sandbox/util/IMG_7474.mov: 640x384 14.1ms\n",
      "Opening in existing browser session.\n",
      "video 1/1 (frame 53/337) /home/ncbernar/Code/object_detection_sandbox/util/IMG_7474.mov: 640x384 14.7ms\n",
      "Opening in existing browser session.\n",
      "video 1/1 (frame 54/337) /home/ncbernar/Code/object_detection_sandbox/util/IMG_7474.mov: 640x384 14.6ms\n",
      "Opening in existing browser session.\n",
      "video 1/1 (frame 55/337) /home/ncbernar/Code/object_detection_sandbox/util/IMG_7474.mov: 640x384 18.3ms\n",
      "Opening in existing browser session.\n",
      "video 1/1 (frame 56/337) /home/ncbernar/Code/object_detection_sandbox/util/IMG_7474.mov: 640x384 12.4ms\n",
      "Opening in existing browser session.\n",
      "video 1/1 (frame 57/337) /home/ncbernar/Code/object_detection_sandbox/util/IMG_7474.mov: 640x384 19.4ms\n",
      "Opening in existing browser session.\n",
      "video 1/1 (frame 58/337) /home/ncbernar/Code/object_detection_sandbox/util/IMG_7474.mov: 640x384 15.4ms\n",
      "Opening in existing browser session.\n",
      "video 1/1 (frame 59/337) /home/ncbernar/Code/object_detection_sandbox/util/IMG_7474.mov: 640x384 12.6ms\n",
      "Opening in existing browser session.\n",
      "video 1/1 (frame 60/337) /home/ncbernar/Code/object_detection_sandbox/util/IMG_7474.mov: 640x384 16.7ms\n",
      "Opening in existing browser session.\n",
      "video 1/1 (frame 61/337) /home/ncbernar/Code/object_detection_sandbox/util/IMG_7474.mov: 640x384 12.9ms\n",
      "Opening in existing browser session.\n",
      "video 1/1 (frame 62/337) /home/ncbernar/Code/object_detection_sandbox/util/IMG_7474.mov: 640x384 15.1ms\n",
      "Opening in existing browser session.\n",
      "video 1/1 (frame 63/337) /home/ncbernar/Code/object_detection_sandbox/util/IMG_7474.mov: 640x384 9.9ms\n",
      "Opening in existing browser session.\n",
      "video 1/1 (frame 64/337) /home/ncbernar/Code/object_detection_sandbox/util/IMG_7474.mov: 640x384 12.1ms\n",
      "Opening in existing browser session.\n",
      "video 1/1 (frame 65/337) /home/ncbernar/Code/object_detection_sandbox/util/IMG_7474.mov: 640x384 12.3ms\n",
      "Opening in existing browser session.\n",
      "video 1/1 (frame 66/337) /home/ncbernar/Code/object_detection_sandbox/util/IMG_7474.mov: 640x384 11.2ms\n",
      "Opening in existing browser session.\n",
      "video 1/1 (frame 67/337) /home/ncbernar/Code/object_detection_sandbox/util/IMG_7474.mov: 640x384 10.4ms\n",
      "Opening in existing browser session.\n",
      "video 1/1 (frame 68/337) /home/ncbernar/Code/object_detection_sandbox/util/IMG_7474.mov: 640x384 9.9ms\n",
      "Opening in existing browser session.\n",
      "video 1/1 (frame 69/337) /home/ncbernar/Code/object_detection_sandbox/util/IMG_7474.mov: 640x384 14.9ms\n",
      "Opening in existing browser session.\n",
      "video 1/1 (frame 70/337) /home/ncbernar/Code/object_detection_sandbox/util/IMG_7474.mov: 640x384 14.1ms\n",
      "Opening in existing browser session.\n",
      "video 1/1 (frame 71/337) /home/ncbernar/Code/object_detection_sandbox/util/IMG_7474.mov: 640x384 8.7ms\n",
      "Opening in existing browser session.\n",
      "video 1/1 (frame 72/337) /home/ncbernar/Code/object_detection_sandbox/util/IMG_7474.mov: 640x384 14.7ms\n",
      "Opening in existing browser session.\n",
      "video 1/1 (frame 73/337) /home/ncbernar/Code/object_detection_sandbox/util/IMG_7474.mov: 640x384 13.7ms\n",
      "Opening in existing browser session.\n",
      "video 1/1 (frame 74/337) /home/ncbernar/Code/object_detection_sandbox/util/IMG_7474.mov: 640x384 16.6ms\n",
      "Opening in existing browser session.\n",
      "video 1/1 (frame 75/337) /home/ncbernar/Code/object_detection_sandbox/util/IMG_7474.mov: 640x384 13.2ms\n",
      "Opening in existing browser session.\n",
      "video 1/1 (frame 76/337) /home/ncbernar/Code/object_detection_sandbox/util/IMG_7474.mov: 640x384 13.9ms\n",
      "Opening in existing browser session.\n",
      "video 1/1 (frame 77/337) /home/ncbernar/Code/object_detection_sandbox/util/IMG_7474.mov: 640x384 11.0ms\n",
      "Opening in existing browser session.\n",
      "video 1/1 (frame 78/337) /home/ncbernar/Code/object_detection_sandbox/util/IMG_7474.mov: 640x384 17.6ms\n",
      "Opening in existing browser session.\n",
      "video 1/1 (frame 79/337) /home/ncbernar/Code/object_detection_sandbox/util/IMG_7474.mov: 640x384 19.9ms\n",
      "Opening in existing browser session.\n",
      "video 1/1 (frame 80/337) /home/ncbernar/Code/object_detection_sandbox/util/IMG_7474.mov: 640x384 16.4ms\n",
      "Opening in existing browser session.\n",
      "video 1/1 (frame 81/337) /home/ncbernar/Code/object_detection_sandbox/util/IMG_7474.mov: 640x384 13.5ms\n",
      "Opening in existing browser session.\n",
      "video 1/1 (frame 82/337) /home/ncbernar/Code/object_detection_sandbox/util/IMG_7474.mov: 640x384 13.8ms\n",
      "Opening in existing browser session.\n",
      "video 1/1 (frame 83/337) /home/ncbernar/Code/object_detection_sandbox/util/IMG_7474.mov: 640x384 13.8ms\n",
      "Opening in existing browser session.\n",
      "video 1/1 (frame 84/337) /home/ncbernar/Code/object_detection_sandbox/util/IMG_7474.mov: 640x384 14.3ms\n",
      "Opening in existing browser session.\n",
      "video 1/1 (frame 85/337) /home/ncbernar/Code/object_detection_sandbox/util/IMG_7474.mov: 640x384 15.8ms\n",
      "Opening in existing browser session.\n",
      "video 1/1 (frame 86/337) /home/ncbernar/Code/object_detection_sandbox/util/IMG_7474.mov: 640x384 14.5ms\n",
      "Opening in existing browser session.\n",
      "video 1/1 (frame 87/337) /home/ncbernar/Code/object_detection_sandbox/util/IMG_7474.mov: 640x384 14.9ms\n",
      "Opening in existing browser session.\n",
      "video 1/1 (frame 88/337) /home/ncbernar/Code/object_detection_sandbox/util/IMG_7474.mov: 640x384 19.2ms\n",
      "Opening in existing browser session.\n",
      "video 1/1 (frame 89/337) /home/ncbernar/Code/object_detection_sandbox/util/IMG_7474.mov: 640x384 13.6ms\n",
      "Opening in existing browser session.\n",
      "video 1/1 (frame 90/337) /home/ncbernar/Code/object_detection_sandbox/util/IMG_7474.mov: 640x384 15.0ms\n",
      "Opening in existing browser session.\n",
      "video 1/1 (frame 91/337) /home/ncbernar/Code/object_detection_sandbox/util/IMG_7474.mov: 640x384 15.3ms\n",
      "Opening in existing browser session.\n",
      "video 1/1 (frame 92/337) /home/ncbernar/Code/object_detection_sandbox/util/IMG_7474.mov: 640x384 14.7ms\n",
      "Opening in existing browser session.\n",
      "video 1/1 (frame 93/337) /home/ncbernar/Code/object_detection_sandbox/util/IMG_7474.mov: 640x384 13.6ms\n",
      "Opening in existing browser session.\n",
      "video 1/1 (frame 94/337) /home/ncbernar/Code/object_detection_sandbox/util/IMG_7474.mov: 640x384 14.6ms\n",
      "Opening in existing browser session.\n",
      "video 1/1 (frame 95/337) /home/ncbernar/Code/object_detection_sandbox/util/IMG_7474.mov: 640x384 15.7ms\n",
      "Opening in existing browser session.\n",
      "video 1/1 (frame 96/337) /home/ncbernar/Code/object_detection_sandbox/util/IMG_7474.mov: 640x384 14.4ms\n",
      "Opening in existing browser session.\n",
      "video 1/1 (frame 97/337) /home/ncbernar/Code/object_detection_sandbox/util/IMG_7474.mov: 640x384 9.2ms\n",
      "Opening in existing browser session.\n",
      "video 1/1 (frame 98/337) /home/ncbernar/Code/object_detection_sandbox/util/IMG_7474.mov: 640x384 13.2ms\n",
      "Opening in existing browser session.\n",
      "video 1/1 (frame 99/337) /home/ncbernar/Code/object_detection_sandbox/util/IMG_7474.mov: 640x384 14.1ms\n",
      "Opening in existing browser session.\n",
      "video 1/1 (frame 100/337) /home/ncbernar/Code/object_detection_sandbox/util/IMG_7474.mov: 640x384 13.0ms\n",
      "Opening in existing browser session.\n",
      "video 1/1 (frame 101/337) /home/ncbernar/Code/object_detection_sandbox/util/IMG_7474.mov: 640x384 14.1ms\n",
      "Opening in existing browser session.\n",
      "video 1/1 (frame 102/337) /home/ncbernar/Code/object_detection_sandbox/util/IMG_7474.mov: 640x384 13.6ms\n",
      "Opening in existing browser session.\n",
      "video 1/1 (frame 103/337) /home/ncbernar/Code/object_detection_sandbox/util/IMG_7474.mov: 640x384 8.7ms\n",
      "Opening in existing browser session.\n",
      "video 1/1 (frame 104/337) /home/ncbernar/Code/object_detection_sandbox/util/IMG_7474.mov: 640x384 13.7ms\n",
      "Opening in existing browser session.\n",
      "video 1/1 (frame 105/337) /home/ncbernar/Code/object_detection_sandbox/util/IMG_7474.mov: 640x384 14.2ms\n",
      "Opening in existing browser session.\n",
      "video 1/1 (frame 106/337) /home/ncbernar/Code/object_detection_sandbox/util/IMG_7474.mov: 640x384 14.0ms\n",
      "Opening in existing browser session.\n",
      "video 1/1 (frame 107/337) /home/ncbernar/Code/object_detection_sandbox/util/IMG_7474.mov: 640x384 14.3ms\n",
      "Opening in existing browser session.\n",
      "video 1/1 (frame 108/337) /home/ncbernar/Code/object_detection_sandbox/util/IMG_7474.mov: 640x384 12.7ms\n",
      "Opening in existing browser session.\n",
      "video 1/1 (frame 109/337) /home/ncbernar/Code/object_detection_sandbox/util/IMG_7474.mov: 640x384 20.5ms\n",
      "Opening in existing browser session.\n",
      "video 1/1 (frame 110/337) /home/ncbernar/Code/object_detection_sandbox/util/IMG_7474.mov: 640x384 15.2ms\n",
      "Opening in existing browser session.\n",
      "video 1/1 (frame 111/337) /home/ncbernar/Code/object_detection_sandbox/util/IMG_7474.mov: 640x384 19.5ms\n",
      "Opening in existing browser session.\n",
      "video 1/1 (frame 112/337) /home/ncbernar/Code/object_detection_sandbox/util/IMG_7474.mov: 640x384 16.9ms\n",
      "Opening in existing browser session.\n",
      "video 1/1 (frame 113/337) /home/ncbernar/Code/object_detection_sandbox/util/IMG_7474.mov: 640x384 14.8ms\n",
      "Opening in existing browser session.\n",
      "video 1/1 (frame 114/337) /home/ncbernar/Code/object_detection_sandbox/util/IMG_7474.mov: 640x384 8.6ms\n",
      "Opening in existing browser session.\n",
      "video 1/1 (frame 115/337) /home/ncbernar/Code/object_detection_sandbox/util/IMG_7474.mov: 640x384 9.9ms\n",
      "Opening in existing browser session.\n",
      "video 1/1 (frame 116/337) /home/ncbernar/Code/object_detection_sandbox/util/IMG_7474.mov: 640x384 12.7ms\n",
      "Opening in existing browser session.\n",
      "video 1/1 (frame 117/337) /home/ncbernar/Code/object_detection_sandbox/util/IMG_7474.mov: 640x384 10.8ms\n",
      "Opening in existing browser session.\n",
      "video 1/1 (frame 118/337) /home/ncbernar/Code/object_detection_sandbox/util/IMG_7474.mov: 640x384 11.7ms\n",
      "Opening in existing browser session.\n",
      "video 1/1 (frame 119/337) /home/ncbernar/Code/object_detection_sandbox/util/IMG_7474.mov: 640x384 16.9ms\n",
      "Opening in existing browser session.\n",
      "video 1/1 (frame 120/337) /home/ncbernar/Code/object_detection_sandbox/util/IMG_7474.mov: 640x384 17.2ms\n",
      "Opening in existing browser session.\n",
      "video 1/1 (frame 121/337) /home/ncbernar/Code/object_detection_sandbox/util/IMG_7474.mov: 640x384 13.4ms\n",
      "Opening in existing browser session.\n",
      "video 1/1 (frame 122/337) /home/ncbernar/Code/object_detection_sandbox/util/IMG_7474.mov: 640x384 12.8ms\n",
      "Opening in existing browser session.\n",
      "video 1/1 (frame 123/337) /home/ncbernar/Code/object_detection_sandbox/util/IMG_7474.mov: 640x384 9.3ms\n",
      "Opening in existing browser session.\n",
      "video 1/1 (frame 124/337) /home/ncbernar/Code/object_detection_sandbox/util/IMG_7474.mov: 640x384 9.1ms\n",
      "Opening in existing browser session.\n",
      "video 1/1 (frame 125/337) /home/ncbernar/Code/object_detection_sandbox/util/IMG_7474.mov: 640x384 11.8ms\n",
      "Opening in existing browser session.\n",
      "video 1/1 (frame 126/337) /home/ncbernar/Code/object_detection_sandbox/util/IMG_7474.mov: 640x384 11.0ms\n",
      "Opening in existing browser session.\n",
      "video 1/1 (frame 127/337) /home/ncbernar/Code/object_detection_sandbox/util/IMG_7474.mov: 640x384 11.2ms\n",
      "Opening in existing browser session.\n",
      "video 1/1 (frame 128/337) /home/ncbernar/Code/object_detection_sandbox/util/IMG_7474.mov: 640x384 9.3ms\n",
      "Opening in existing browser session.\n",
      "video 1/1 (frame 129/337) /home/ncbernar/Code/object_detection_sandbox/util/IMG_7474.mov: 640x384 12.0ms\n",
      "Opening in existing browser session.\n",
      "video 1/1 (frame 130/337) /home/ncbernar/Code/object_detection_sandbox/util/IMG_7474.mov: 640x384 10.7ms\n",
      "Opening in existing browser session.\n",
      "video 1/1 (frame 131/337) /home/ncbernar/Code/object_detection_sandbox/util/IMG_7474.mov: 640x384 12.1ms\n",
      "Opening in existing browser session.\n",
      "video 1/1 (frame 132/337) /home/ncbernar/Code/object_detection_sandbox/util/IMG_7474.mov: 640x384 10.7ms\n",
      "Opening in existing browser session.\n",
      "video 1/1 (frame 133/337) /home/ncbernar/Code/object_detection_sandbox/util/IMG_7474.mov: 640x384 10.2ms\n",
      "Opening in existing browser session.\n",
      "video 1/1 (frame 134/337) /home/ncbernar/Code/object_detection_sandbox/util/IMG_7474.mov: 640x384 11.4ms\n",
      "Opening in existing browser session.\n",
      "video 1/1 (frame 135/337) /home/ncbernar/Code/object_detection_sandbox/util/IMG_7474.mov: 640x384 10.7ms\n",
      "Opening in existing browser session.\n",
      "video 1/1 (frame 136/337) /home/ncbernar/Code/object_detection_sandbox/util/IMG_7474.mov: 640x384 11.6ms\n",
      "Opening in existing browser session.\n",
      "video 1/1 (frame 137/337) /home/ncbernar/Code/object_detection_sandbox/util/IMG_7474.mov: 640x384 9.4ms\n",
      "Opening in existing browser session.\n",
      "video 1/1 (frame 138/337) /home/ncbernar/Code/object_detection_sandbox/util/IMG_7474.mov: 640x384 16.3ms\n",
      "Opening in existing browser session.\n",
      "video 1/1 (frame 139/337) /home/ncbernar/Code/object_detection_sandbox/util/IMG_7474.mov: 640x384 13.6ms\n",
      "Opening in existing browser session.\n",
      "video 1/1 (frame 140/337) /home/ncbernar/Code/object_detection_sandbox/util/IMG_7474.mov: 640x384 10.8ms\n",
      "Opening in existing browser session.\n",
      "video 1/1 (frame 141/337) /home/ncbernar/Code/object_detection_sandbox/util/IMG_7474.mov: 640x384 13.5ms\n",
      "Opening in existing browser session.\n",
      "video 1/1 (frame 142/337) /home/ncbernar/Code/object_detection_sandbox/util/IMG_7474.mov: 640x384 11.2ms\n",
      "Opening in existing browser session.\n",
      "video 1/1 (frame 143/337) /home/ncbernar/Code/object_detection_sandbox/util/IMG_7474.mov: 640x384 17.8ms\n",
      "Opening in existing browser session.\n",
      "video 1/1 (frame 144/337) /home/ncbernar/Code/object_detection_sandbox/util/IMG_7474.mov: 640x384 14.3ms\n",
      "Opening in existing browser session.\n",
      "video 1/1 (frame 145/337) /home/ncbernar/Code/object_detection_sandbox/util/IMG_7474.mov: 640x384 12.6ms\n",
      "Opening in existing browser session.\n",
      "video 1/1 (frame 146/337) /home/ncbernar/Code/object_detection_sandbox/util/IMG_7474.mov: 640x384 12.8ms\n",
      "Opening in existing browser session.\n",
      "video 1/1 (frame 147/337) /home/ncbernar/Code/object_detection_sandbox/util/IMG_7474.mov: 640x384 14.5ms\n",
      "Opening in existing browser session.\n",
      "video 1/1 (frame 148/337) /home/ncbernar/Code/object_detection_sandbox/util/IMG_7474.mov: 640x384 12.8ms\n",
      "Opening in existing browser session.\n",
      "video 1/1 (frame 149/337) /home/ncbernar/Code/object_detection_sandbox/util/IMG_7474.mov: 640x384 9.7ms\n",
      "Opening in existing browser session.\n",
      "video 1/1 (frame 150/337) /home/ncbernar/Code/object_detection_sandbox/util/IMG_7474.mov: 640x384 14.4ms\n",
      "Opening in existing browser session.\n",
      "video 1/1 (frame 151/337) /home/ncbernar/Code/object_detection_sandbox/util/IMG_7474.mov: 640x384 15.2ms\n",
      "Opening in existing browser session.\n",
      "video 1/1 (frame 152/337) /home/ncbernar/Code/object_detection_sandbox/util/IMG_7474.mov: 640x384 17.9ms\n",
      "Opening in existing browser session.\n",
      "video 1/1 (frame 153/337) /home/ncbernar/Code/object_detection_sandbox/util/IMG_7474.mov: 640x384 14.3ms\n",
      "Opening in existing browser session.\n",
      "video 1/1 (frame 154/337) /home/ncbernar/Code/object_detection_sandbox/util/IMG_7474.mov: 640x384 11.6ms\n",
      "Opening in existing browser session.\n",
      "video 1/1 (frame 155/337) /home/ncbernar/Code/object_detection_sandbox/util/IMG_7474.mov: 640x384 12.2ms\n",
      "Opening in existing browser session.\n",
      "video 1/1 (frame 156/337) /home/ncbernar/Code/object_detection_sandbox/util/IMG_7474.mov: 640x384 10.6ms\n",
      "Opening in existing browser session.\n",
      "video 1/1 (frame 157/337) /home/ncbernar/Code/object_detection_sandbox/util/IMG_7474.mov: 640x384 16.7ms\n",
      "Opening in existing browser session.\n",
      "video 1/1 (frame 158/337) /home/ncbernar/Code/object_detection_sandbox/util/IMG_7474.mov: 640x384 15.9ms\n",
      "Opening in existing browser session.\n",
      "video 1/1 (frame 159/337) /home/ncbernar/Code/object_detection_sandbox/util/IMG_7474.mov: 640x384 10.7ms\n",
      "video 1/1 (frame 160/337) /home/ncbernar/Code/object_detection_sandbox/util/IMG_7474.mov: 640x384 16.3ms\n",
      "Opening in existing browser session.\n",
      "video 1/1 (frame 161/337) /home/ncbernar/Code/object_detection_sandbox/util/IMG_7474.mov: 640x384 21.0ms\n",
      "Opening in existing browser session.\n",
      "video 1/1 (frame 162/337) /home/ncbernar/Code/object_detection_sandbox/util/IMG_7474.mov: 640x384 15.5ms\n",
      "Opening in existing browser session.\n",
      "Opening in existing browser session.\n",
      "video 1/1 (frame 163/337) /home/ncbernar/Code/object_detection_sandbox/util/IMG_7474.mov: 640x384 16.6ms\n",
      "Opening in existing browser session.\n",
      "video 1/1 (frame 164/337) /home/ncbernar/Code/object_detection_sandbox/util/IMG_7474.mov: 640x384 23.0ms\n",
      "Opening in existing browser session.\n",
      "video 1/1 (frame 165/337) /home/ncbernar/Code/object_detection_sandbox/util/IMG_7474.mov: 640x384 17.6ms\n",
      "Opening in existing browser session.\n",
      "video 1/1 (frame 166/337) /home/ncbernar/Code/object_detection_sandbox/util/IMG_7474.mov: 640x384 14.1ms\n",
      "Opening in existing browser session.\n",
      "video 1/1 (frame 167/337) /home/ncbernar/Code/object_detection_sandbox/util/IMG_7474.mov: 640x384 12.5ms\n",
      "Opening in existing browser session.\n",
      "video 1/1 (frame 168/337) /home/ncbernar/Code/object_detection_sandbox/util/IMG_7474.mov: 640x384 10.8ms\n",
      "Opening in existing browser session.\n",
      "video 1/1 (frame 169/337) /home/ncbernar/Code/object_detection_sandbox/util/IMG_7474.mov: 640x384 13.7ms\n",
      "Opening in existing browser session.\n",
      "video 1/1 (frame 170/337) /home/ncbernar/Code/object_detection_sandbox/util/IMG_7474.mov: 640x384 12.7ms\n",
      "Opening in existing browser session.\n",
      "video 1/1 (frame 171/337) /home/ncbernar/Code/object_detection_sandbox/util/IMG_7474.mov: 640x384 12.9ms\n",
      "Opening in existing browser session.\n",
      "video 1/1 (frame 172/337) /home/ncbernar/Code/object_detection_sandbox/util/IMG_7474.mov: 640x384 11.6ms\n",
      "Opening in existing browser session.\n",
      "video 1/1 (frame 173/337) /home/ncbernar/Code/object_detection_sandbox/util/IMG_7474.mov: 640x384 14.8ms\n",
      "Opening in existing browser session.\n",
      "video 1/1 (frame 174/337) /home/ncbernar/Code/object_detection_sandbox/util/IMG_7474.mov: 640x384 18.9ms\n",
      "video 1/1 (frame 175/337) /home/ncbernar/Code/object_detection_sandbox/util/IMG_7474.mov: 640x384 13.6ms\n",
      "Opening in existing browser session.\n",
      "video 1/1 (frame 176/337) /home/ncbernar/Code/object_detection_sandbox/util/IMG_7474.mov: 640x384 11.6ms\n",
      "Opening in existing browser session.\n",
      "video 1/1 (frame 177/337) /home/ncbernar/Code/object_detection_sandbox/util/IMG_7474.mov: 640x384 12.8ms\n",
      "Opening in existing browser session.\n",
      "Opening in existing browser session.\n",
      "video 1/1 (frame 178/337) /home/ncbernar/Code/object_detection_sandbox/util/IMG_7474.mov: 640x384 17.6ms\n",
      "video 1/1 (frame 179/337) /home/ncbernar/Code/object_detection_sandbox/util/IMG_7474.mov: 640x384 13.7ms\n",
      "Opening in existing browser session.\n",
      "Opening in existing browser session.\n",
      "video 1/1 (frame 180/337) /home/ncbernar/Code/object_detection_sandbox/util/IMG_7474.mov: 640x384 13.0ms\n",
      "Opening in existing browser session.\n",
      "video 1/1 (frame 181/337) /home/ncbernar/Code/object_detection_sandbox/util/IMG_7474.mov: 640x384 10.0ms\n",
      "video 1/1 (frame 182/337) /home/ncbernar/Code/object_detection_sandbox/util/IMG_7474.mov: 640x384 12.3ms\n",
      "Opening in existing browser session.\n",
      "Opening in existing browser session.\n",
      "video 1/1 (frame 183/337) /home/ncbernar/Code/object_detection_sandbox/util/IMG_7474.mov: 640x384 16.5ms\n",
      "Opening in existing browser session.\n",
      "video 1/1 (frame 184/337) /home/ncbernar/Code/object_detection_sandbox/util/IMG_7474.mov: 640x384 15.5ms\n",
      "video 1/1 (frame 185/337) /home/ncbernar/Code/object_detection_sandbox/util/IMG_7474.mov: 640x384 21.6ms\n",
      "Opening in existing browser session.\n",
      "Opening in existing browser session.\n",
      "video 1/1 (frame 186/337) /home/ncbernar/Code/object_detection_sandbox/util/IMG_7474.mov: 640x384 14.4ms\n",
      "Opening in existing browser session.\n",
      "video 1/1 (frame 187/337) /home/ncbernar/Code/object_detection_sandbox/util/IMG_7474.mov: 640x384 21.8ms\n",
      "Opening in existing browser session.\n",
      "video 1/1 (frame 188/337) /home/ncbernar/Code/object_detection_sandbox/util/IMG_7474.mov: 640x384 18.8ms\n",
      "Opening in existing browser session.\n",
      "video 1/1 (frame 189/337) /home/ncbernar/Code/object_detection_sandbox/util/IMG_7474.mov: 640x384 17.9ms\n",
      "video 1/1 (frame 190/337) /home/ncbernar/Code/object_detection_sandbox/util/IMG_7474.mov: 640x384 15.5ms\n",
      "Opening in existing browser session.\n",
      "video 1/1 (frame 191/337) /home/ncbernar/Code/object_detection_sandbox/util/IMG_7474.mov: 640x384 12.3ms\n",
      "Opening in existing browser session.\n",
      "video 1/1 (frame 192/337) /home/ncbernar/Code/object_detection_sandbox/util/IMG_7474.mov: 640x384 13.0ms\n",
      "Opening in existing browser session.\n",
      "video 1/1 (frame 193/337) /home/ncbernar/Code/object_detection_sandbox/util/IMG_7474.mov: 640x384 12.3ms\n",
      "Opening in existing browser session.\n",
      "video 1/1 (frame 194/337) /home/ncbernar/Code/object_detection_sandbox/util/IMG_7474.mov: 640x384 13.1ms\n",
      "Opening in existing browser session.\n",
      "video 1/1 (frame 195/337) /home/ncbernar/Code/object_detection_sandbox/util/IMG_7474.mov: 640x384 13.9ms\n",
      "Opening in existing browser session.\n",
      "Opening in existing browser session.\n",
      "video 1/1 (frame 196/337) /home/ncbernar/Code/object_detection_sandbox/util/IMG_7474.mov: 640x384 18.7ms\n",
      "video 1/1 (frame 197/337) /home/ncbernar/Code/object_detection_sandbox/util/IMG_7474.mov: 640x384 16.9ms\n",
      "Opening in existing browser session.\n",
      "Opening in existing browser session.\n",
      "video 1/1 (frame 198/337) /home/ncbernar/Code/object_detection_sandbox/util/IMG_7474.mov: 640x384 18.5ms\n",
      "Opening in existing browser session.\n",
      "video 1/1 (frame 199/337) /home/ncbernar/Code/object_detection_sandbox/util/IMG_7474.mov: 640x384 16.5ms\n",
      "video 1/1 (frame 200/337) /home/ncbernar/Code/object_detection_sandbox/util/IMG_7474.mov: 640x384 15.7ms\n",
      "Opening in existing browser session.\n",
      "Opening in existing browser session.\n",
      "video 1/1 (frame 201/337) /home/ncbernar/Code/object_detection_sandbox/util/IMG_7474.mov: 640x384 15.9ms\n",
      "video 1/1 (frame 202/337) /home/ncbernar/Code/object_detection_sandbox/util/IMG_7474.mov: 640x384 13.1ms\n",
      "Opening in existing browser session.\n",
      "video 1/1 (frame 203/337) /home/ncbernar/Code/object_detection_sandbox/util/IMG_7474.mov: 640x384 15.4ms\n",
      "Opening in existing browser session.\n",
      "Opening in existing browser session.\n",
      "video 1/1 (frame 204/337) /home/ncbernar/Code/object_detection_sandbox/util/IMG_7474.mov: 640x384 15.2ms\n",
      "video 1/1 (frame 205/337) /home/ncbernar/Code/object_detection_sandbox/util/IMG_7474.mov: 640x384 14.8ms\n",
      "Opening in existing browser session.\n",
      "video 1/1 (frame 206/337) /home/ncbernar/Code/object_detection_sandbox/util/IMG_7474.mov: 640x384 17.0ms\n",
      "Opening in existing browser session.\n",
      "Opening in existing browser session.\n",
      "video 1/1 (frame 207/337) /home/ncbernar/Code/object_detection_sandbox/util/IMG_7474.mov: 640x384 14.5ms\n",
      "Opening in existing browser session.\n",
      "video 1/1 (frame 208/337) /home/ncbernar/Code/object_detection_sandbox/util/IMG_7474.mov: 640x384 21.4ms\n",
      "Opening in existing browser session.\n",
      "video 1/1 (frame 209/337) /home/ncbernar/Code/object_detection_sandbox/util/IMG_7474.mov: 640x384 17.8ms\n",
      "Opening in existing browser session.\n",
      "video 1/1 (frame 210/337) /home/ncbernar/Code/object_detection_sandbox/util/IMG_7474.mov: 640x384 15.2ms\n",
      "video 1/1 (frame 211/337) /home/ncbernar/Code/object_detection_sandbox/util/IMG_7474.mov: 640x384 15.0ms\n",
      "Opening in existing browser session.\n",
      "video 1/1 (frame 212/337) /home/ncbernar/Code/object_detection_sandbox/util/IMG_7474.mov: 640x384 16.1ms\n",
      "Opening in existing browser session.\n",
      "Opening in existing browser session.\n",
      "video 1/1 (frame 213/337) /home/ncbernar/Code/object_detection_sandbox/util/IMG_7474.mov: 640x384 14.6ms\n",
      "video 1/1 (frame 214/337) /home/ncbernar/Code/object_detection_sandbox/util/IMG_7474.mov: 640x384 14.9ms\n",
      "Opening in existing browser session.\n",
      "video 1/1 (frame 215/337) /home/ncbernar/Code/object_detection_sandbox/util/IMG_7474.mov: 640x384 11.7ms\n",
      "Opening in existing browser session.\n",
      "video 1/1 (frame 216/337) /home/ncbernar/Code/object_detection_sandbox/util/IMG_7474.mov: 640x384 17.3ms\n",
      "Opening in existing browser session.\n",
      "video 1/1 (frame 217/337) /home/ncbernar/Code/object_detection_sandbox/util/IMG_7474.mov: 640x384 15.2ms\n",
      "Opening in existing browser session.\n",
      "Opening in existing browser session.\n",
      "video 1/1 (frame 218/337) /home/ncbernar/Code/object_detection_sandbox/util/IMG_7474.mov: 640x384 17.8ms\n",
      "Opening in existing browser session.\n",
      "video 1/1 (frame 219/337) /home/ncbernar/Code/object_detection_sandbox/util/IMG_7474.mov: 640x384 11.3ms\n",
      "video 1/1 (frame 220/337) /home/ncbernar/Code/object_detection_sandbox/util/IMG_7474.mov: 640x384 12.6ms\n",
      "Opening in existing browser session.\n",
      "Opening in existing browser session.\n",
      "video 1/1 (frame 221/337) /home/ncbernar/Code/object_detection_sandbox/util/IMG_7474.mov: 640x384 17.1ms\n",
      "Opening in existing browser session.\n",
      "video 1/1 (frame 222/337) /home/ncbernar/Code/object_detection_sandbox/util/IMG_7474.mov: 640x384 26.7ms\n",
      "Opening in existing browser session.\n",
      "video 1/1 (frame 223/337) /home/ncbernar/Code/object_detection_sandbox/util/IMG_7474.mov: 640x384 16.4ms\n",
      "video 1/1 (frame 224/337) /home/ncbernar/Code/object_detection_sandbox/util/IMG_7474.mov: 640x384 17.5ms\n",
      "Opening in existing browser session.\n",
      "video 1/1 (frame 225/337) /home/ncbernar/Code/object_detection_sandbox/util/IMG_7474.mov: 640x384 13.5ms\n",
      "Opening in existing browser session.\n",
      "video 1/1 (frame 226/337) /home/ncbernar/Code/object_detection_sandbox/util/IMG_7474.mov: 640x384 16.2ms\n",
      "Opening in existing browser session.\n",
      "video 1/1 (frame 227/337) /home/ncbernar/Code/object_detection_sandbox/util/IMG_7474.mov: 640x384 12.3ms\n",
      "Opening in existing browser session.\n",
      "video 1/1 (frame 228/337) /home/ncbernar/Code/object_detection_sandbox/util/IMG_7474.mov: 640x384 15.4ms\n",
      "Opening in existing browser session.\n",
      "Opening in existing browser session.\n",
      "video 1/1 (frame 229/337) /home/ncbernar/Code/object_detection_sandbox/util/IMG_7474.mov: 640x384 17.4ms\n",
      "Opening in existing browser session.\n",
      "video 1/1 (frame 230/337) /home/ncbernar/Code/object_detection_sandbox/util/IMG_7474.mov: 640x384 17.6ms\n",
      "video 1/1 (frame 231/337) /home/ncbernar/Code/object_detection_sandbox/util/IMG_7474.mov: 640x384 15.0ms\n",
      "Opening in existing browser session.\n",
      "video 1/1 (frame 232/337) /home/ncbernar/Code/object_detection_sandbox/util/IMG_7474.mov: 640x384 17.3ms\n",
      "Opening in existing browser session.\n",
      "video 1/1 (frame 233/337) /home/ncbernar/Code/object_detection_sandbox/util/IMG_7474.mov: 640x384 20.7ms\n",
      "Opening in existing browser session.\n",
      "video 1/1 (frame 234/337) /home/ncbernar/Code/object_detection_sandbox/util/IMG_7474.mov: 640x384 19.6ms\n",
      "Opening in existing browser session.\n",
      "video 1/1 (frame 235/337) /home/ncbernar/Code/object_detection_sandbox/util/IMG_7474.mov: 640x384 22.0ms\n",
      "Opening in existing browser session.\n",
      "video 1/1 (frame 236/337) /home/ncbernar/Code/object_detection_sandbox/util/IMG_7474.mov: 640x384 12.0ms\n",
      "Opening in existing browser session.\n",
      "video 1/1 (frame 237/337) /home/ncbernar/Code/object_detection_sandbox/util/IMG_7474.mov: 640x384 14.7ms\n",
      "Opening in existing browser session.\n",
      "video 1/1 (frame 238/337) /home/ncbernar/Code/object_detection_sandbox/util/IMG_7474.mov: 640x384 16.6ms\n",
      "Opening in existing browser session.\n",
      "video 1/1 (frame 239/337) /home/ncbernar/Code/object_detection_sandbox/util/IMG_7474.mov: 640x384 18.3ms\n",
      "Opening in existing browser session.\n",
      "video 1/1 (frame 240/337) /home/ncbernar/Code/object_detection_sandbox/util/IMG_7474.mov: 640x384 24.0ms\n",
      "video 1/1 (frame 241/337) /home/ncbernar/Code/object_detection_sandbox/util/IMG_7474.mov: 640x384 22.1ms\n",
      "Opening in existing browser session.\n",
      "Opening in existing browser session.\n",
      "video 1/1 (frame 242/337) /home/ncbernar/Code/object_detection_sandbox/util/IMG_7474.mov: 640x384 11.7ms\n",
      "video 1/1 (frame 243/337) /home/ncbernar/Code/object_detection_sandbox/util/IMG_7474.mov: 640x384 17.9ms\n",
      "video 1/1 (frame 244/337) /home/ncbernar/Code/object_detection_sandbox/util/IMG_7474.mov: 640x384 17.4ms\n",
      "Opening in existing browser session.\n",
      "Opening in existing browser session.\n",
      "Opening in existing browser session.\n",
      "video 1/1 (frame 245/337) /home/ncbernar/Code/object_detection_sandbox/util/IMG_7474.mov: 640x384 15.0ms\n",
      "video 1/1 (frame 246/337) /home/ncbernar/Code/object_detection_sandbox/util/IMG_7474.mov: 640x384 14.1ms\n",
      "video 1/1 (frame 247/337) /home/ncbernar/Code/object_detection_sandbox/util/IMG_7474.mov: 640x384 18.3ms\n",
      "Opening in existing browser session.\n",
      "Opening in existing browser session.\n",
      "Opening in existing browser session.\n",
      "video 1/1 (frame 248/337) /home/ncbernar/Code/object_detection_sandbox/util/IMG_7474.mov: 640x384 20.4ms\n",
      "video 1/1 (frame 249/337) /home/ncbernar/Code/object_detection_sandbox/util/IMG_7474.mov: 640x384 11.0ms\n",
      "video 1/1 (frame 250/337) /home/ncbernar/Code/object_detection_sandbox/util/IMG_7474.mov: 640x384 13.9ms\n",
      "Opening in existing browser session.\n",
      "video 1/1 (frame 251/337) /home/ncbernar/Code/object_detection_sandbox/util/IMG_7474.mov: 640x384 14.8ms\n",
      "Opening in existing browser session.\n",
      "Opening in existing browser session.\n",
      "video 1/1 (frame 252/337) /home/ncbernar/Code/object_detection_sandbox/util/IMG_7474.mov: 640x384 17.7ms\n",
      "video 1/1 (frame 253/337) /home/ncbernar/Code/object_detection_sandbox/util/IMG_7474.mov: 640x384 17.5ms\n",
      "Opening in existing browser session.\n",
      "video 1/1 (frame 254/337) /home/ncbernar/Code/object_detection_sandbox/util/IMG_7474.mov: 640x384 13.1ms\n",
      "Opening in existing browser session.\n",
      "video 1/1 (frame 255/337) /home/ncbernar/Code/object_detection_sandbox/util/IMG_7474.mov: 640x384 18.5ms\n",
      "Opening in existing browser session.\n",
      "video 1/1 (frame 256/337) /home/ncbernar/Code/object_detection_sandbox/util/IMG_7474.mov: 640x384 14.4ms\n",
      "Opening in existing browser session.\n",
      "video 1/1 (frame 257/337) /home/ncbernar/Code/object_detection_sandbox/util/IMG_7474.mov: 640x384 13.6ms\n",
      "Opening in existing browser session.\n",
      "video 1/1 (frame 258/337) /home/ncbernar/Code/object_detection_sandbox/util/IMG_7474.mov: 640x384 18.5ms\n",
      "video 1/1 (frame 259/337) /home/ncbernar/Code/object_detection_sandbox/util/IMG_7474.mov: 640x384 14.8ms\n",
      "Opening in existing browser session.\n",
      "video 1/1 (frame 260/337) /home/ncbernar/Code/object_detection_sandbox/util/IMG_7474.mov: 640x384 17.8ms\n",
      "Opening in existing browser session.\n",
      "video 1/1 (frame 261/337) /home/ncbernar/Code/object_detection_sandbox/util/IMG_7474.mov: 640x384 12.1ms\n",
      "Opening in existing browser session.\n",
      "Opening in existing browser session.\n",
      "video 1/1 (frame 262/337) /home/ncbernar/Code/object_detection_sandbox/util/IMG_7474.mov: 640x384 14.7ms\n",
      "Opening in existing browser session.\n",
      "video 1/1 (frame 263/337) /home/ncbernar/Code/object_detection_sandbox/util/IMG_7474.mov: 640x384 13.9ms\n",
      "Opening in existing browser session.\n",
      "video 1/1 (frame 264/337) /home/ncbernar/Code/object_detection_sandbox/util/IMG_7474.mov: 640x384 21.0ms\n",
      "video 1/1 (frame 265/337) /home/ncbernar/Code/object_detection_sandbox/util/IMG_7474.mov: 640x384 13.2ms\n",
      "video 1/1 (frame 266/337) /home/ncbernar/Code/object_detection_sandbox/util/IMG_7474.mov: 640x384 12.3ms\n",
      "video 1/1 (frame 267/337) /home/ncbernar/Code/object_detection_sandbox/util/IMG_7474.mov: 640x384 13.9ms\n",
      "video 1/1 (frame 268/337) /home/ncbernar/Code/object_detection_sandbox/util/IMG_7474.mov: 640x384 15.0ms\n",
      "video 1/1 (frame 269/337) /home/ncbernar/Code/object_detection_sandbox/util/IMG_7474.mov: 640x384 10.6ms\n",
      "Opening in existing browser session.\n",
      "video 1/1 (frame 270/337) /home/ncbernar/Code/object_detection_sandbox/util/IMG_7474.mov: 640x384 19.6ms\n",
      "Opening in existing browser session.\n",
      "video 1/1 (frame 271/337) /home/ncbernar/Code/object_detection_sandbox/util/IMG_7474.mov: 640x384 20.4ms\n",
      "Opening in existing browser session.\n",
      "Opening in existing browser session.\n",
      "Opening in existing browser session.\n",
      "Opening in existing browser session.\n",
      "Opening in existing browser session.\n",
      "Opening in existing browser session.\n",
      "video 1/1 (frame 272/337) /home/ncbernar/Code/object_detection_sandbox/util/IMG_7474.mov: 640x384 15.0ms\n",
      "video 1/1 (frame 273/337) /home/ncbernar/Code/object_detection_sandbox/util/IMG_7474.mov: 640x384 15.5ms\n",
      "video 1/1 (frame 274/337) /home/ncbernar/Code/object_detection_sandbox/util/IMG_7474.mov: 640x384 15.2ms\n",
      "Opening in existing browser session.\n",
      "video 1/1 (frame 275/337) /home/ncbernar/Code/object_detection_sandbox/util/IMG_7474.mov: 640x384 20.4ms\n",
      "Opening in existing browser session.\n",
      "video 1/1 (frame 276/337) /home/ncbernar/Code/object_detection_sandbox/util/IMG_7474.mov: 640x384 14.4ms\n",
      "video 1/1 (frame 277/337) /home/ncbernar/Code/object_detection_sandbox/util/IMG_7474.mov: 640x384 16.4ms\n",
      "video 1/1 (frame 278/337) /home/ncbernar/Code/object_detection_sandbox/util/IMG_7474.mov: 640x384 15.7ms\n",
      "video 1/1 (frame 279/337) /home/ncbernar/Code/object_detection_sandbox/util/IMG_7474.mov: 640x384 15.9ms\n",
      "video 1/1 (frame 280/337) /home/ncbernar/Code/object_detection_sandbox/util/IMG_7474.mov: 640x384 11.8ms\n",
      "video 1/1 (frame 281/337) /home/ncbernar/Code/object_detection_sandbox/util/IMG_7474.mov: 640x384 14.0ms\n",
      "video 1/1 (frame 282/337) /home/ncbernar/Code/object_detection_sandbox/util/IMG_7474.mov: 640x384 12.7ms\n",
      "Opening in existing browser session.\n",
      "video 1/1 (frame 283/337) /home/ncbernar/Code/object_detection_sandbox/util/IMG_7474.mov: 640x384 12.2ms\n",
      "Opening in existing browser session.\n",
      "Opening in existing browser session.\n",
      "video 1/1 (frame 284/337) /home/ncbernar/Code/object_detection_sandbox/util/IMG_7474.mov: 640x384 15.0ms\n",
      "Opening in existing browser session.\n",
      "video 1/1 (frame 285/337) /home/ncbernar/Code/object_detection_sandbox/util/IMG_7474.mov: 640x384 17.6ms\n",
      "Opening in existing browser session.\n",
      "Opening in existing browser session.\n",
      "video 1/1 (frame 286/337) /home/ncbernar/Code/object_detection_sandbox/util/IMG_7474.mov: 640x384 15.7ms\n",
      "Opening in existing browser session.\n",
      "video 1/1 (frame 287/337) /home/ncbernar/Code/object_detection_sandbox/util/IMG_7474.mov: 640x384 15.8ms\n",
      "Opening in existing browser session.\n",
      "Opening in existing browser session.\n",
      "Opening in existing browser session.\n",
      "Opening in existing browser session.\n",
      "video 1/1 (frame 288/337) /home/ncbernar/Code/object_detection_sandbox/util/IMG_7474.mov: 640x384 28.5ms\n",
      "video 1/1 (frame 289/337) /home/ncbernar/Code/object_detection_sandbox/util/IMG_7474.mov: 640x384 19.5ms\n",
      "Opening in existing browser session.\n",
      "video 1/1 (frame 290/337) /home/ncbernar/Code/object_detection_sandbox/util/IMG_7474.mov: 640x384 15.2ms\n",
      "video 1/1 (frame 291/337) /home/ncbernar/Code/object_detection_sandbox/util/IMG_7474.mov: 640x384 10.7ms\n",
      "Opening in existing browser session.\n",
      "Opening in existing browser session.\n",
      "video 1/1 (frame 292/337) /home/ncbernar/Code/object_detection_sandbox/util/IMG_7474.mov: 640x384 16.2ms\n",
      "video 1/1 (frame 293/337) /home/ncbernar/Code/object_detection_sandbox/util/IMG_7474.mov: 640x384 15.7ms\n",
      "video 1/1 (frame 294/337) /home/ncbernar/Code/object_detection_sandbox/util/IMG_7474.mov: 640x384 23.2ms\n",
      "video 1/1 (frame 295/337) /home/ncbernar/Code/object_detection_sandbox/util/IMG_7474.mov: 640x384 13.3ms\n",
      "Opening in existing browser session.\n",
      "Opening in existing browser session.\n",
      "video 1/1 (frame 296/337) /home/ncbernar/Code/object_detection_sandbox/util/IMG_7474.mov: 640x384 15.6ms\n",
      "video 1/1 (frame 297/337) /home/ncbernar/Code/object_detection_sandbox/util/IMG_7474.mov: 640x384 12.4ms\n",
      "video 1/1 (frame 298/337) /home/ncbernar/Code/object_detection_sandbox/util/IMG_7474.mov: 640x384 13.7ms\n",
      "video 1/1 (frame 299/337) /home/ncbernar/Code/object_detection_sandbox/util/IMG_7474.mov: 640x384 12.7ms\n",
      "video 1/1 (frame 300/337) /home/ncbernar/Code/object_detection_sandbox/util/IMG_7474.mov: 640x384 12.0ms\n",
      "video 1/1 (frame 301/337) /home/ncbernar/Code/object_detection_sandbox/util/IMG_7474.mov: 640x384 18.4ms\n",
      "Opening in existing browser session.\n",
      "video 1/1 (frame 302/337) /home/ncbernar/Code/object_detection_sandbox/util/IMG_7474.mov: 640x384 16.4ms\n",
      "Opening in existing browser session.\n",
      "video 1/1 (frame 303/337) /home/ncbernar/Code/object_detection_sandbox/util/IMG_7474.mov: 640x384 16.5ms\n",
      "Opening in existing browser session.\n",
      "Opening in existing browser session.\n",
      "video 1/1 (frame 304/337) /home/ncbernar/Code/object_detection_sandbox/util/IMG_7474.mov: 640x384 16.2ms\n",
      "video 1/1 (frame 305/337) /home/ncbernar/Code/object_detection_sandbox/util/IMG_7474.mov: 640x384 14.5ms\n",
      "Opening in existing browser session.\n",
      "Opening in existing browser session.\n",
      "Opening in existing browser session.\n",
      "Opening in existing browser session.\n",
      "video 1/1 (frame 306/337) /home/ncbernar/Code/object_detection_sandbox/util/IMG_7474.mov: 640x384 25.8ms\n",
      "video 1/1 (frame 307/337) /home/ncbernar/Code/object_detection_sandbox/util/IMG_7474.mov: 640x384 21.3ms\n",
      "video 1/1 (frame 308/337) /home/ncbernar/Code/object_detection_sandbox/util/IMG_7474.mov: 640x384 19.1ms\n",
      "Opening in existing browser session.\n",
      "Opening in existing browser session.\n",
      "Opening in existing browser session.\n",
      "Opening in existing browser session.\n",
      "Opening in existing browser session.\n",
      "Opening in existing browser session.\n",
      "video 1/1 (frame 309/337) /home/ncbernar/Code/object_detection_sandbox/util/IMG_7474.mov: 640x384 19.1ms\n",
      "video 1/1 (frame 310/337) /home/ncbernar/Code/object_detection_sandbox/util/IMG_7474.mov: 640x384 11.0ms\n",
      "Opening in existing browser session.\n",
      "video 1/1 (frame 311/337) /home/ncbernar/Code/object_detection_sandbox/util/IMG_7474.mov: 640x384 14.1ms\n",
      "Opening in existing browser session.\n",
      "video 1/1 (frame 312/337) /home/ncbernar/Code/object_detection_sandbox/util/IMG_7474.mov: 640x384 13.6ms\n",
      "video 1/1 (frame 313/337) /home/ncbernar/Code/object_detection_sandbox/util/IMG_7474.mov: 640x384 14.4ms\n",
      "video 1/1 (frame 314/337) /home/ncbernar/Code/object_detection_sandbox/util/IMG_7474.mov: 640x384 14.7ms\n",
      "Opening in existing browser session.\n",
      "Opening in existing browser session.\n",
      "Opening in existing browser session.\n",
      "video 1/1 (frame 315/337) /home/ncbernar/Code/object_detection_sandbox/util/IMG_7474.mov: 640x384 17.9ms\n",
      "video 1/1 (frame 316/337) /home/ncbernar/Code/object_detection_sandbox/util/IMG_7474.mov: 640x384 19.9ms\n",
      "video 1/1 (frame 317/337) /home/ncbernar/Code/object_detection_sandbox/util/IMG_7474.mov: 640x384 18.8ms\n",
      "Opening in existing browser session.\n",
      "Opening in existing browser session.\n",
      "video 1/1 (frame 318/337) /home/ncbernar/Code/object_detection_sandbox/util/IMG_7474.mov: 640x384 11.3ms\n",
      "video 1/1 (frame 319/337) /home/ncbernar/Code/object_detection_sandbox/util/IMG_7474.mov: 640x384 9.1ms\n",
      "video 1/1 (frame 320/337) /home/ncbernar/Code/object_detection_sandbox/util/IMG_7474.mov: 640x384 21.3ms\n",
      "video 1/1 (frame 321/337) /home/ncbernar/Code/object_detection_sandbox/util/IMG_7474.mov: 640x384 21.1ms\n",
      "video 1/1 (frame 322/337) /home/ncbernar/Code/object_detection_sandbox/util/IMG_7474.mov: 640x384 21.2ms\n",
      "Opening in existing browser session.\n",
      "Opening in existing browser session.\n",
      "video 1/1 (frame 323/337) /home/ncbernar/Code/object_detection_sandbox/util/IMG_7474.mov: 640x384 18.4ms\n",
      "video 1/1 (frame 324/337) /home/ncbernar/Code/object_detection_sandbox/util/IMG_7474.mov: 640x384 15.0ms\n",
      "Opening in existing browser session.\n",
      "video 1/1 (frame 325/337) /home/ncbernar/Code/object_detection_sandbox/util/IMG_7474.mov: 640x384 25.1ms\n",
      "Opening in existing browser session.\n",
      "Opening in existing browser session.\n",
      "Opening in existing browser session.\n",
      "video 1/1 (frame 326/337) /home/ncbernar/Code/object_detection_sandbox/util/IMG_7474.mov: 640x384 21.4ms\n",
      "video 1/1 (frame 327/337) /home/ncbernar/Code/object_detection_sandbox/util/IMG_7474.mov: 640x384 20.4ms\n",
      "Opening in existing browser session.\n",
      "Opening in existing browser session.\n",
      "Opening in existing browser session.\n",
      "video 1/1 (frame 328/337) /home/ncbernar/Code/object_detection_sandbox/util/IMG_7474.mov: 640x384 19.7ms\n",
      "video 1/1 (frame 329/337) /home/ncbernar/Code/object_detection_sandbox/util/IMG_7474.mov: 640x384 20.0ms\n",
      "Opening in existing browser session.\n",
      "Opening in existing browser session.\n",
      "Opening in existing browser session.\n",
      "Opening in existing browser session.\n",
      "Opening in existing browser session.\n",
      "Opening in existing browser session.\n",
      "video 1/1 (frame 330/337) /home/ncbernar/Code/object_detection_sandbox/util/IMG_7474.mov: 640x384 12.2ms\n",
      "video 1/1 (frame 331/337) /home/ncbernar/Code/object_detection_sandbox/util/IMG_7474.mov: 640x384 15.3ms\n",
      "video 1/1 (frame 332/337) /home/ncbernar/Code/object_detection_sandbox/util/IMG_7474.mov: 640x384 14.7ms\n",
      "Opening in existing browser session.\n",
      "video 1/1 (frame 333/337) /home/ncbernar/Code/object_detection_sandbox/util/IMG_7474.mov: 640x384 13.5ms\n",
      "Opening in existing browser session.\n",
      "video 1/1 (frame 334/337) /home/ncbernar/Code/object_detection_sandbox/util/IMG_7474.mov: 640x384 12.7ms\n",
      "video 1/1 (frame 335/337) /home/ncbernar/Code/object_detection_sandbox/util/IMG_7474.mov: 640x384 13.8ms\n",
      "video 1/1 (frame 336/337) /home/ncbernar/Code/object_detection_sandbox/util/IMG_7474.mov: 640x384 15.8ms\n",
      "video 1/1 (frame 337/337) /home/ncbernar/Code/object_detection_sandbox/util/IMG_7474.mov: 640x384 19.5ms\n",
      "Opening in existing browser session.\n",
      "Opening in existing browser session.\n",
      "Opening in existing browser session.\n",
      "Speed: 4.2ms preprocess, 15.1ms inference, 4.9ms postprocess per image at shape (1, 3, 640, 384)\n",
      "Opening in existing browser session.\n",
      "Opening in existing browser session.\n",
      "Opening in existing browser session.\n",
      "Opening in existing browser session.\n",
      "Opening in existing browser session.\n",
      "Opening in existing browser session.\n",
      "Opening in existing browser session.\n",
      "Opening in existing browser session.\n",
      "Opening in existing browser session.\n",
      "Opening in existing browser session.\n",
      "Opening in existing browser session.\n"
     ]
    }
   ],
   "source": [
    "for result in results:\n",
    "    boxes = result.boxes\n",
    "    obb = result.obb\n",
    "    result.show()"
   ]
  },
  {
   "cell_type": "code",
   "execution_count": 5,
   "id": "1f4c39b2-504d-4eec-b5df-9b33d21e7a2d",
   "metadata": {},
   "outputs": [],
   "source": [
    "input_video = cv2.VideoCapture(\"./IMG_7474.mov\")"
   ]
  },
  {
   "cell_type": "code",
   "execution_count": 9,
   "id": "f08d1cb7-5c94-422d-8f6f-1d679b11417c",
   "metadata": {},
   "outputs": [],
   "source": [
    "fps = int(input_video.get(cv2.CAP_PROP_FPS))\n",
    "width = int(input_video.get(cv2.CAP_PROP_FRAME_WIDTH))\n",
    "height = int(input_video.get(cv2.CAP_PROP_FRAME_HEIGHT))"
   ]
  },
  {
   "cell_type": "code",
   "execution_count": 10,
   "id": "5d06715d-117e-43b1-8571-cafa9af68299",
   "metadata": {},
   "outputs": [
    {
     "name": "stdout",
     "output_type": "stream",
     "text": [
      "30 480 852\n"
     ]
    }
   ],
   "source": [
    "print(fps, width, height)"
   ]
  },
  {
   "cell_type": "code",
   "execution_count": 11,
   "id": "417699aa-5edc-4a6e-9d50-71f795ab7836",
   "metadata": {},
   "outputs": [],
   "source": [
    "fourcc = cv2.VideoWriter_fourcc(*'mp4v')\n",
    "output_video = cv2.VideoWriter('output.mp4', fourcc, fps, (width, height))"
   ]
  },
  {
   "cell_type": "code",
   "execution_count": null,
   "id": "a3f17414-3cda-4153-a128-c097b55d643f",
   "metadata": {},
   "outputs": [],
   "source": []
  }
 ],
 "metadata": {
  "kernelspec": {
   "display_name": "Python 3 (ipykernel)",
   "language": "python",
   "name": "python3"
  },
  "language_info": {
   "codemirror_mode": {
    "name": "ipython",
    "version": 3
   },
   "file_extension": ".py",
   "mimetype": "text/x-python",
   "name": "python",
   "nbconvert_exporter": "python",
   "pygments_lexer": "ipython3",
   "version": "3.12.7"
  }
 },
 "nbformat": 4,
 "nbformat_minor": 5
}
